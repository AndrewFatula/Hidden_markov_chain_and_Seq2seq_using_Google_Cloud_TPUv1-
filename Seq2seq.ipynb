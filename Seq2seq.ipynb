{
  "nbformat": 4,
  "nbformat_minor": 0,
  "metadata": {
    "colab": {
      "name": "Seq2seq.ipynb",
      "provenance": [],
      "collapsed_sections": [],
      "authorship_tag": "ABX9TyN+O7Q0etYwG3g1R7BORaLG",
      "include_colab_link": true
    },
    "kernelspec": {
      "name": "python3",
      "display_name": "Python 3"
    },
    "accelerator": "TPU"
  },
  "cells": [
    {
      "cell_type": "markdown",
      "metadata": {
        "id": "view-in-github",
        "colab_type": "text"
      },
      "source": [
        "<a href=\"https://colab.research.google.com/github/AndrewFatula/Hidden_markov_chain_and_Seq2seq_using_Google_Cloud_TPUv1-/blob/master/Seq2seq.ipynb\" target=\"_parent\"><img src=\"https://colab.research.google.com/assets/colab-badge.svg\" alt=\"Open In Colab\"/></a>"
      ]
    },
    {
      "cell_type": "code",
      "metadata": {
        "id": "HlkoGCLQ0Ahe",
        "colab_type": "code",
        "outputId": "cb863a74-78e0-4f57-921f-b9f8060f4965",
        "colab": {
          "base_uri": "https://localhost:8080/",
          "height": 52
        }
      },
      "source": [
        "import numpy as np\n",
        "import string\n",
        "import os\n",
        "import sys\n",
        "import time\n",
        "from nltk.tokenize import TweetTokenizer\n",
        "import tensorflow as tf\n",
        "from collections import Counter\n",
        "from matplotlib import pyplot as plt\n",
        "from nltk.translate import bleu_score\n",
        "from keras import regularizers\n",
        "from copy import deepcopy as dc\n",
        "import tensorboardcolab as tb\n",
        "print(tf.__version__)"
      ],
      "execution_count": 0,
      "outputs": [
        {
          "output_type": "stream",
          "text": [
            "2.0.0\n"
          ],
          "name": "stdout"
        },
        {
          "output_type": "stream",
          "text": [
            "Using TensorFlow backend.\n"
          ],
          "name": "stderr"
        }
      ]
    },
    {
      "cell_type": "markdown",
      "metadata": {
        "id": "tJ1_citv8gLk",
        "colab_type": "text"
      },
      "source": [
        "Importing all needed packages."
      ]
    },
    {
      "cell_type": "code",
      "metadata": {
        "id": "On17B68F0E17",
        "colab_type": "code",
        "colab": {}
      },
      "source": [
        "!pip install --upgrade auth\n",
        "!pip uninstall grpcio\n",
        "!pip uninstall tensorflow\n",
        "!pip install grpcio==1.24.3\n",
        "!pip install tensorflow==2.0.0"
      ],
      "execution_count": 0,
      "outputs": []
    },
    {
      "cell_type": "markdown",
      "metadata": {
        "id": "mGBhGW7W8ciG",
        "colab_type": "text"
      },
      "source": [
        "Default version of tensorflow in colab is 1.15, so in order to gain all the benefits of tensorflow 2.0, current version of tensorflow needs to be uninstalled and then we can install the 2.0 version, but in order to use google cloud TPU v1 with tensorflow 2.0 before installing 2.0 version of tensorflow packages like grpcio and auth should be reinstalled the same way to versions specified above in code.\n",
        "\n",
        "When given packages are reinstalled runtime have to be reset in order to activates updates."
      ]
    },
    {
      "cell_type": "code",
      "metadata": {
        "id": "0DCCb17s0GH0",
        "colab_type": "code",
        "colab": {}
      },
      "source": [
        "!pip install -U -q PyDrive\n",
        "from pydrive.auth import GoogleAuth\n",
        "from pydrive.drive import GoogleDrive\n",
        "from google.colab import auth\n",
        "from oauth2client.client import GoogleCredentials\n",
        "\n",
        "auth.authenticate_user()\n",
        "gauth = GoogleAuth()\n",
        "gauth.credentials = GoogleCredentials.get_application_default()\n",
        "drive = GoogleDrive(gauth)"
      ],
      "execution_count": 0,
      "outputs": []
    },
    {
      "cell_type": "markdown",
      "metadata": {
        "id": "Wq0z-8NO8plk",
        "colab_type": "text"
      },
      "source": [
        "Importing all needed tools and authentificating in google account in order to import data in colab."
      ]
    },
    {
      "cell_type": "code",
      "metadata": {
        "id": "3JHVzWcF0Hr1",
        "colab_type": "code",
        "colab": {}
      },
      "source": [
        "downloaded = drive.CreateFile({'id':'1Z7odQLtZ7RmWERaRDJHDvbX_3VJ2ptvu'}) # all phrases in movies\n",
        "downloaded.GetContentFile('movie_lines.txt') \n",
        "downloaded = drive.CreateFile({'id':'1TdbFyBvMGV_N8iszqTIAb7V1Vx_eSdMr'}) # all conversations in movies\n",
        "downloaded.GetContentFile('movie_conversations.txt') \n",
        "downloaded = drive.CreateFile({'id':'1YTQeB3x_HTeEA5sjrleJD3notEKaPBnM'}) # all titles of movies\n",
        "downloaded.GetContentFile('movie_titles_metadata.txt')\n"
      ],
      "execution_count": 0,
      "outputs": []
    },
    {
      "cell_type": "markdown",
      "metadata": {
        "id": "NW-JqRfE8oxU",
        "colab_type": "text"
      },
      "source": [
        "Loading all needed datafiles for constucting training dataset including GLOVE 50-demensional pretrained vector representations for 400000 English words trained on data from Twitter - which is needed in training seq2seq model to check phrases similarity"
      ]
    },
    {
      "cell_type": "code",
      "metadata": {
        "id": "TUZknwlN0JA_",
        "colab_type": "code",
        "outputId": "d9c4343c-008a-436e-be95-4a7f0e8e42fb",
        "colab": {
          "base_uri": "https://localhost:8080/",
          "height": 763
        }
      },
      "source": [
        "\n",
        "\n",
        "\n",
        "if 'COLAB_TPU_ADDR' not in os.environ:\n",
        "  print('ERROR: Not connected to a TPU runtime; please see the first cell in this notebook for instructions!')\n",
        "else:\n",
        "  tpu_address = 'grpc://' + os.environ['COLAB_TPU_ADDR']\n",
        "  print ('TPU address iis', tpu_address)\n",
        "\n",
        "\n",
        "cluster_resolver = tf.distribute.cluster_resolver.TPUClusterResolver(\n",
        "    tpu=tpu_address)\n",
        "tf.config.experimental_connect_to_cluster(cluster_resolver)\n",
        "tf.tpu.experimental.initialize_tpu_system(cluster_resolver)\n",
        "tpu_strategy = tf.distribute.experimental.TPUStrategy(cluster_resolver)\n",
        "\n",
        "print ('Number of devices: {}'.format(tpu_strategy.num_replicas_in_sync))\n"
      ],
      "execution_count": 0,
      "outputs": [
        {
          "output_type": "stream",
          "text": [
            "TPU address iis grpc://10.33.193.226:8470\n",
            "INFO:tensorflow:Initializing the TPU system: 10.33.193.226:8470\n"
          ],
          "name": "stdout"
        },
        {
          "output_type": "stream",
          "text": [
            "INFO:tensorflow:Initializing the TPU system: 10.33.193.226:8470\n"
          ],
          "name": "stderr"
        },
        {
          "output_type": "stream",
          "text": [
            "INFO:tensorflow:Clearing out eager caches\n"
          ],
          "name": "stdout"
        },
        {
          "output_type": "stream",
          "text": [
            "INFO:tensorflow:Clearing out eager caches\n"
          ],
          "name": "stderr"
        },
        {
          "output_type": "stream",
          "text": [
            "INFO:tensorflow:Finished initializing TPU system.\n"
          ],
          "name": "stdout"
        },
        {
          "output_type": "stream",
          "text": [
            "INFO:tensorflow:Finished initializing TPU system.\n"
          ],
          "name": "stderr"
        },
        {
          "output_type": "stream",
          "text": [
            "INFO:tensorflow:Found TPU system:\n"
          ],
          "name": "stdout"
        },
        {
          "output_type": "stream",
          "text": [
            "INFO:tensorflow:Found TPU system:\n"
          ],
          "name": "stderr"
        },
        {
          "output_type": "stream",
          "text": [
            "INFO:tensorflow:*** Num TPU Cores: 8\n"
          ],
          "name": "stdout"
        },
        {
          "output_type": "stream",
          "text": [
            "INFO:tensorflow:*** Num TPU Cores: 8\n"
          ],
          "name": "stderr"
        },
        {
          "output_type": "stream",
          "text": [
            "INFO:tensorflow:*** Num TPU Workers: 1\n"
          ],
          "name": "stdout"
        },
        {
          "output_type": "stream",
          "text": [
            "INFO:tensorflow:*** Num TPU Workers: 1\n"
          ],
          "name": "stderr"
        },
        {
          "output_type": "stream",
          "text": [
            "INFO:tensorflow:*** Num TPU Cores Per Worker: 8\n"
          ],
          "name": "stdout"
        },
        {
          "output_type": "stream",
          "text": [
            "INFO:tensorflow:*** Num TPU Cores Per Worker: 8\n"
          ],
          "name": "stderr"
        },
        {
          "output_type": "stream",
          "text": [
            "INFO:tensorflow:*** Available Device: _DeviceAttributes(/job:localhost/replica:0/task:0/device:CPU:0, CPU, 0, 0)\n"
          ],
          "name": "stdout"
        },
        {
          "output_type": "stream",
          "text": [
            "INFO:tensorflow:*** Available Device: _DeviceAttributes(/job:localhost/replica:0/task:0/device:CPU:0, CPU, 0, 0)\n"
          ],
          "name": "stderr"
        },
        {
          "output_type": "stream",
          "text": [
            "INFO:tensorflow:*** Available Device: _DeviceAttributes(/job:localhost/replica:0/task:0/device:XLA_CPU:0, XLA_CPU, 0, 0)\n"
          ],
          "name": "stdout"
        },
        {
          "output_type": "stream",
          "text": [
            "INFO:tensorflow:*** Available Device: _DeviceAttributes(/job:localhost/replica:0/task:0/device:XLA_CPU:0, XLA_CPU, 0, 0)\n"
          ],
          "name": "stderr"
        },
        {
          "output_type": "stream",
          "text": [
            "INFO:tensorflow:*** Available Device: _DeviceAttributes(/job:worker/replica:0/task:0/device:CPU:0, CPU, 0, 0)\n"
          ],
          "name": "stdout"
        },
        {
          "output_type": "stream",
          "text": [
            "INFO:tensorflow:*** Available Device: _DeviceAttributes(/job:worker/replica:0/task:0/device:CPU:0, CPU, 0, 0)\n"
          ],
          "name": "stderr"
        },
        {
          "output_type": "stream",
          "text": [
            "INFO:tensorflow:*** Available Device: _DeviceAttributes(/job:worker/replica:0/task:0/device:TPU:0, TPU, 0, 0)\n"
          ],
          "name": "stdout"
        },
        {
          "output_type": "stream",
          "text": [
            "INFO:tensorflow:*** Available Device: _DeviceAttributes(/job:worker/replica:0/task:0/device:TPU:0, TPU, 0, 0)\n"
          ],
          "name": "stderr"
        },
        {
          "output_type": "stream",
          "text": [
            "INFO:tensorflow:*** Available Device: _DeviceAttributes(/job:worker/replica:0/task:0/device:TPU:1, TPU, 0, 0)\n"
          ],
          "name": "stdout"
        },
        {
          "output_type": "stream",
          "text": [
            "INFO:tensorflow:*** Available Device: _DeviceAttributes(/job:worker/replica:0/task:0/device:TPU:1, TPU, 0, 0)\n"
          ],
          "name": "stderr"
        },
        {
          "output_type": "stream",
          "text": [
            "INFO:tensorflow:*** Available Device: _DeviceAttributes(/job:worker/replica:0/task:0/device:TPU:2, TPU, 0, 0)\n"
          ],
          "name": "stdout"
        },
        {
          "output_type": "stream",
          "text": [
            "INFO:tensorflow:*** Available Device: _DeviceAttributes(/job:worker/replica:0/task:0/device:TPU:2, TPU, 0, 0)\n"
          ],
          "name": "stderr"
        },
        {
          "output_type": "stream",
          "text": [
            "INFO:tensorflow:*** Available Device: _DeviceAttributes(/job:worker/replica:0/task:0/device:TPU:3, TPU, 0, 0)\n"
          ],
          "name": "stdout"
        },
        {
          "output_type": "stream",
          "text": [
            "INFO:tensorflow:*** Available Device: _DeviceAttributes(/job:worker/replica:0/task:0/device:TPU:3, TPU, 0, 0)\n"
          ],
          "name": "stderr"
        },
        {
          "output_type": "stream",
          "text": [
            "INFO:tensorflow:*** Available Device: _DeviceAttributes(/job:worker/replica:0/task:0/device:TPU:4, TPU, 0, 0)\n"
          ],
          "name": "stdout"
        },
        {
          "output_type": "stream",
          "text": [
            "INFO:tensorflow:*** Available Device: _DeviceAttributes(/job:worker/replica:0/task:0/device:TPU:4, TPU, 0, 0)\n"
          ],
          "name": "stderr"
        },
        {
          "output_type": "stream",
          "text": [
            "INFO:tensorflow:*** Available Device: _DeviceAttributes(/job:worker/replica:0/task:0/device:TPU:5, TPU, 0, 0)\n"
          ],
          "name": "stdout"
        },
        {
          "output_type": "stream",
          "text": [
            "INFO:tensorflow:*** Available Device: _DeviceAttributes(/job:worker/replica:0/task:0/device:TPU:5, TPU, 0, 0)\n"
          ],
          "name": "stderr"
        },
        {
          "output_type": "stream",
          "text": [
            "INFO:tensorflow:*** Available Device: _DeviceAttributes(/job:worker/replica:0/task:0/device:TPU:6, TPU, 0, 0)\n"
          ],
          "name": "stdout"
        },
        {
          "output_type": "stream",
          "text": [
            "INFO:tensorflow:*** Available Device: _DeviceAttributes(/job:worker/replica:0/task:0/device:TPU:6, TPU, 0, 0)\n"
          ],
          "name": "stderr"
        },
        {
          "output_type": "stream",
          "text": [
            "INFO:tensorflow:*** Available Device: _DeviceAttributes(/job:worker/replica:0/task:0/device:TPU:7, TPU, 0, 0)\n"
          ],
          "name": "stdout"
        },
        {
          "output_type": "stream",
          "text": [
            "INFO:tensorflow:*** Available Device: _DeviceAttributes(/job:worker/replica:0/task:0/device:TPU:7, TPU, 0, 0)\n"
          ],
          "name": "stderr"
        },
        {
          "output_type": "stream",
          "text": [
            "INFO:tensorflow:*** Available Device: _DeviceAttributes(/job:worker/replica:0/task:0/device:TPU_SYSTEM:0, TPU_SYSTEM, 0, 0)\n"
          ],
          "name": "stdout"
        },
        {
          "output_type": "stream",
          "text": [
            "INFO:tensorflow:*** Available Device: _DeviceAttributes(/job:worker/replica:0/task:0/device:TPU_SYSTEM:0, TPU_SYSTEM, 0, 0)\n"
          ],
          "name": "stderr"
        },
        {
          "output_type": "stream",
          "text": [
            "INFO:tensorflow:*** Available Device: _DeviceAttributes(/job:worker/replica:0/task:0/device:XLA_CPU:0, XLA_CPU, 0, 0)\n"
          ],
          "name": "stdout"
        },
        {
          "output_type": "stream",
          "text": [
            "INFO:tensorflow:*** Available Device: _DeviceAttributes(/job:worker/replica:0/task:0/device:XLA_CPU:0, XLA_CPU, 0, 0)\n"
          ],
          "name": "stderr"
        },
        {
          "output_type": "stream",
          "text": [
            "Number of devices: 8\n"
          ],
          "name": "stdout"
        }
      ]
    },
    {
      "cell_type": "markdown",
      "metadata": {
        "id": "cGfNg7sR8z_V",
        "colab_type": "text"
      },
      "source": [
        "Setting up TPU v1 hardware acceleration system. \n",
        "Definig TPU cluster_resolver and tpu_distributed_strategy for training seq2seq."
      ]
    },
    {
      "cell_type": "code",
      "metadata": {
        "id": "wwM0dzb40Kc4",
        "colab_type": "code",
        "colab": {}
      },
      "source": [
        "\n",
        "SEPARATOR = \"+++$+++\"\n",
        "MAX_TOKENS_X = 12\n",
        "MAX_TOKENS_Y = 10\n",
        "MAX_TOKENS_CONV = 50\n",
        "MIN_TOKEN_FREQ = 3\n",
        "\n",
        "VEC_SIZE = 50\n",
        "\n",
        "EMB_FILE = 'glove.6B.50d.txt'\n",
        "GENRES = \"horror,thriller,war\"\n",
        "WITH_EXCEPTION = True\n",
        "\n",
        "\n",
        "def tokenize(str_):\n",
        "\treturn TweetTokenizer(preserve_case=False).tokenize(str_)\n",
        "\n",
        "\n",
        "def remove_all(str, substrings):\n",
        "\tindex = 0\n",
        "\tfor substr in substrings:\n",
        "\t\tlength = len(substr)\n",
        "\t\twhile str.find(substr) != -1:\n",
        "\t\t\tindex = str.find(str)\n",
        "\t\t\tstr = str[0 : index] + str[index + length:]\n",
        "\treturn str\n",
        "\n",
        "\n",
        "\n",
        "def load_movies(genres, exception = False):\n",
        "\n",
        "\t'''This function loads all the movie titles of specicfied genres \n",
        "\t\tfrom <movie_titles_metadata.txt> file and returns list of movie titles'''\n",
        "\n",
        "\n",
        "\tmovies = []\n",
        "\twith open(\"movie_titles_metadata.txt\", 'rb') as gf:\n",
        "\n",
        "\t\tfor line in gf:\n",
        "\t\t\tline = str(line, encoding='utf-8', errors='ignore')\n",
        "\t\t\tarr_line = list(map( lambda x: x.strip(), line.split(SEPARATOR) ))\n",
        "\t\t\tline_genres = list(map( lambda x: x.strip(\" '\"), arr_line[-1].strip(\"[]\").split(\",\") ))\n",
        "\t\t\tappend = True\n",
        "   \n",
        "\t\t\tfor genre in genres:\n",
        "\t\t\t\tif not exception:\n",
        "\t\t\t\t\tappend = False\n",
        "\t\t\t\t\tif genre in line_genres:\n",
        "\t\t\t\t\t\tappend = True\n",
        "\t\t\t\t\t\tbreak\n",
        "\t\t\t\telse:\n",
        "\t\t\t\t\tif genre in line_genres:\n",
        "\t\t\t\t\t\tappend = False\n",
        "\t\t\t\t\t\tbreak\n",
        "\n",
        "\t\t\tif append:\n",
        "\t\t\t\tmovies.append(arr_line[0])\n",
        "\t\t\t\t\n",
        "\n",
        "\treturn movies\t\t\t\t\n",
        "\n",
        "\n",
        "def read_phrases(movies = [], genres = []):\n",
        "\n",
        "\t''' This function loads all phrasses from <movie_lines.txt> file which are \n",
        "\t\t\tsaid in given movie list as an argument of this function\n",
        "\t\t\tIf function is called with no argument than it reads phrasses \n",
        "\t\t\tfrom all the movies available in dataset  '''\n",
        "\n",
        "\tphrases = {}\n",
        "\n",
        "\twith open('movie_lines.txt', 'rb') as lf:\n",
        "\n",
        "\t\tfor line in lf:\n",
        "\t\t\tline = str(line, encoding='utf-8', errors='ignore').replace(\"<u>\",\"\").replace(\"</u>\",\"\")\n",
        "\n",
        "\t\t\tarr_line = list(map( lambda x: x.strip(), line.split(SEPARATOR) ))\n",
        "\t\t\t#phrases are loaded in dictionary, the key is index of a conversation\n",
        "\t\t\t\n",
        "\t\t\tif not movies:\n",
        "\t\t\t\tphrases[arr_line[0]] = tokenize(remove_all(arr_line[-1],\n",
        "\t\t\t\t                                           [\"<b>\",\"</b>\",\"<u>\",\"</u>\",\"<i>\",\"</i>\",\"<u>\", \"</u>\"]))\n",
        "\t\t\telif arr_line[2] in movies: \n",
        "\t\t\t\tphrases[arr_line[0]] = tokenize(remove_all(arr_line[-1],\n",
        "\t\t\t\t                                           [\"<b>\",\"</b>\",\"<u>\",\"</u>\",\"<i>\",\"</i>\",\"<u>\", \"</u>\"]))\n",
        "\t\n",
        "\t\n",
        "\treturn phrases\t\n",
        "\t\n",
        "\n",
        "\n",
        "def read_dialogues(phrases, movies):\n",
        "\n",
        "\t''' this function constructs dialogs from phrases in the movies,\n",
        "\t\t\tall the needed information for dialogs construction is \n",
        "\t\t\treaded from file <movie_conversations.txt>'''\n",
        "\n",
        "\tdialogues = []\n",
        "\twith open(\"movie_conversations.txt\", 'rb') as df:\n",
        "\n",
        "\t\tfor line in df:\t\n",
        "\t\t\tline = str(line, encoding='utf-8', errors='ignore')\n",
        "\t\t\tarr_line = list(map( lambda x: x.strip(), line.split(SEPARATOR) ))\n",
        "\t\t\tdialog = list(map( lambda x: x.strip(\"' \"), arr_line[-1].strip(\"[]\").split(\",\") ))\n",
        "\n",
        "\t\t\tif not movies:\n",
        "\t\t\t\tdialogues.append([phrases[phrase] for phrase in dialog])\n",
        "\t\t\telif arr_line[2] in movies:\t\n",
        "\t\t\t\tdialogues.append([phrases[phrase] for phrase in dialog])\n",
        "\n",
        "\treturn dialogues\t\t\t\t\n",
        "\n",
        "\n",
        "def get_phrase_pairs(genres = None, max_tokins = MAX_TOKENS_X, n_pairs = None, exception = False):\n",
        "\n",
        "\t''' This function constructs phrase_pairs dataset where each instance of \n",
        "\t\tdataset is phrase and response to that phrase '''\n",
        "\n",
        "\t#when genres in not specified it read phrses from all the movies is available\n",
        "\tif genres == None:\n",
        "\t\tall_phrases = read_phrases()\n",
        "\t\tmovies = []\n",
        "\telse:\n",
        "\t\tmovies = load_movies(genres, exception = exception)\n",
        "\t\tall_phrases = read_phrases(movies, genres = genres)\t\n",
        "\t\n",
        "\t#before constructing phrase pairs dataset we need to get conversations \n",
        "\t#dataset from all readed phrases\n",
        "\tconversations = read_dialogues(all_phrases, movies)\n",
        "\tphrase_pairs = []\n",
        "\n",
        "\tfor conv in conversations:\n",
        "\t\tprev_phrase = None\n",
        "\n",
        "\t\tbiggest_len = 0\n",
        "\t\tfor phrase in conv:\n",
        "\t\t\tif len(phrase) > biggest_len:\n",
        "\t\t\t\tbiggest_len = len(phrase)\n",
        "\t\n",
        "\t\tif biggest_len > MAX_TOKENS_CONV:\n",
        "\t\t\tcontinue\n",
        "\n",
        "\t\tfor phrase in conv:\n",
        "\t\t\tif prev_phrase is not None :\n",
        "\t\t\t\tphrase_pairs.append((prev_phrase, phrase))\n",
        "\t\t\tprev_phrase = phrase\n",
        "\n",
        "\tif not len(genres) == 0:\n",
        "\t\tif not exception:\n",
        "\t\t\tprint(\"Total number of loaded phrases in \" + \",\".join(genres) + \" movies is :\", len(phrase_pairs))\n",
        "\t\telse:\n",
        "\t\t\tprint(\"Total number of loaded phrases not in \" + \",\".join(genres) + \" movies is :\", len(phrase_pairs))\t\t\n",
        "\telse:\n",
        "\t\tprint(\"Total number of loaded phrases of all movies : \" ,len(phrase_pairs))\n",
        "\n",
        "\tif (n_pairs == None) or (n_pairs >= len(phrase_pairs)) :\n",
        "\t\treturn phrase_pairs, conversations\n",
        "\telse:\n",
        "\t\tnp.random.shuffle(phrase_pairs)\n",
        "\t\treturn phrase_pairs[0:n_pairs], conversations\n",
        "\n",
        "\t\n",
        "\n",
        "\n"
      ],
      "execution_count": 0,
      "outputs": []
    },
    {
      "cell_type": "markdown",
      "metadata": {
        "id": "t1jhJxpq9Izw",
        "colab_type": "text"
      },
      "source": [
        "Fuctions above are used to construct phrase_pairs dataset from movies"
      ]
    },
    {
      "cell_type": "code",
      "metadata": {
        "id": "yAj1fKDE0MGP",
        "colab_type": "code",
        "colab": {}
      },
      "source": [
        "\n",
        "\n",
        "\n",
        "\n",
        "\n",
        "\n",
        "\n",
        "\n",
        "def word_corrector(word):\n",
        "\n",
        "\t''' this function is used to convert commonly used english words shortcuts \n",
        "\t\tto corresponding them full forms '''\n",
        "\n",
        "\tdots = ['. ..', '. . .', '..', '. ...','...  ...', '.  ...', '. .']\n",
        "\tcomonly_used = [\"that\", \"what\", \"there\", \"who\", \"where\", \"how\"]\n",
        "\tpronouns = [\"it\", \"she\", \"he\"]\n",
        "\n",
        "\tif word[-3:] == \"'ll\":\n",
        "\t\tdecoded = [ word[:-3] , \"will\" ]\n",
        "\t\treturn decoded\n",
        "\n",
        "\telif word[-2:] == \"'d\":\n",
        "\t\tdecoded = [ word[:-2] , \"would\" ]\n",
        "\t\treturn decoded \n",
        "\n",
        "\telif word[-2:] == \"'s\" or word[-2:] == \"s'\": \n",
        "\t\tif not word[:-2] in comonly_used+pronouns:\n",
        "\t\t\tdecoded =  [ \"someone\" , \"'\" , \"s\" ]\n",
        "\t\telse:\n",
        "\t\t\tdecoded = [word]\n",
        "\t\treturn decoded\n",
        "\n",
        "\telif word[-2:] == \"'t\":\n",
        "\t\t\n",
        "\t\tif word == \"can't\":\n",
        "\t\t\tdecoded = [ \"can\" , \"not\" ]\n",
        "\t\telif word == \"won't\":\n",
        "\t\t\tdecoded = [ \"will\" , \"not\" ]\n",
        "\t\telse:\n",
        "\t\t\tdecoded = [ word[:-3] , \"not\" ]\t\n",
        "\t\treturn decoded   \n",
        "\n",
        "\telif word[-3:] == \"'re\":\n",
        "\t\tdecoded = [ word[:-3] , \"are\" ]\n",
        "\t\treturn decoded \n",
        "\n",
        "\telif word == \"i'm\":\n",
        "\t\tdecoded = [ \"i\", \"am\" ]\n",
        "\t\treturn decoded \n",
        "\n",
        "\telif word[-3:] == \"'ve\":\n",
        "\t\tdecoded = [ word[:-3] , \"have\" ]\n",
        "\t\treturn decoded \n",
        "\n",
        "\telif word[:2] == \"y'\":\n",
        "\t\tdecoded = [ \"you\" , word[2:] ]\n",
        "\t\treturn decoded\n",
        "\n",
        "\telif word[:2] == \"dont\":\n",
        "\t\tdecoded = [ \"do\" , \"not\" ]\n",
        "\t\treturn decoded\n",
        "\telse:\n",
        "\t\tif word in dots:\n",
        "\t\t\tword = \"...\"\n",
        "\t\telif word == \"u\":\n",
        "\t\t\tword = \"you\"\n",
        "\t\telif word == \"ur\":\n",
        "\t\t\tword = \"your\"\t\n",
        "\n",
        "\t\treturn [word]\n",
        "\n",
        "####### \n",
        "def get_word_dict2(phrase_pairs):\n",
        "\n",
        "\t''' this function constructs token dictionary with words which is available\n",
        "\t\t in embeddings dictionary retrieved from GLOVE 50-dimensional wordvectors representations,\n",
        "\t\t\tand is present in phrase_pairs dataset with frequency >= than specified MIN_TOKEN_FREQ '''\n",
        "\n",
        "\tfreq_count = Counter()\n",
        "\tsizes_x = []\n",
        "\tsizes_y = []\n",
        "\n",
        "\tfor pair in phrase_pairs:\n",
        "\t\tif len(pair[0]) < MAX_TOKENS_X + 1 and len(pair[1]) < MAX_TOKENS_Y + 1:\n",
        "\t\t\tfreq_count.update(pair[0])\n",
        "\t\t\tfreq_count.update(pair[1])\n",
        "\n",
        "\tword_set = list(map(lambda x: '+' + x[0] if x[1] >= MIN_TOKEN_FREQ else '-' + x[0], freq_count.items() ))\n",
        "\tword_dict = {\"EMPTY\":0, \"BEGIN\":1, \"END\" : 2}\n",
        "\ti = 3\n",
        "\tn=0\n",
        "\tfor word in word_set:\n",
        "\t\tif word[0] == \"+\":\n",
        "\t\t\tn+=1\n",
        "\t\t\tcorrect_word = word_corrector(word[1:])\n",
        "   \n",
        "\t\t\tfor corrected in correct_word:\n",
        "\t\t\t\tif not corrected in word_dict.keys() :\n",
        "\t\t\t\t\tword_dict[corrected] = i\n",
        "\t\t\t\t\ti+=1\n",
        "\treturn word_dict\n",
        "\n",
        "\n",
        "\n",
        "def convert_phrases2(phrase_pairs, word_dict):\n",
        "\n",
        "\t''' this function converts all the words in phrases dataset to tokens \n",
        "\t\tbased on token dictionary retrieved from embeddings file and phrase_pairs dataset,\n",
        "\t\t\tphrases with words which frequencies are < MIN_TOKEN_FREQ or with words which \n",
        "\t\t\tare unavailable in words embeddings file are ignored,\n",
        "\t\t\talso it converts common words shortcuts in phrases to corresponding them full forms, \n",
        "\t\t\tit returns converted to tokens phrase_pairs separately and lengths for each phrase in pair '''\n",
        "\n",
        "\tsizes_x = []\n",
        "\tsizes_y = []\n",
        "\tconverted_x = []\n",
        "\tconverted_y = []\n",
        "\tconverted_x_reverse = []\n",
        "\n",
        "\tfor pair in phrase_pairs:\n",
        "\t\tif len(pair[0]) < MAX_TOKENS_X + 1 and len(pair[1]) < MAX_TOKENS_Y + 1:\n",
        "\t\t\tphrase1 = []\n",
        "\t\t\tphrase2 = []\n",
        "\t\t\tphrase1_reverse = []\n",
        "\t\t\tfor word in pair[0]:\n",
        "\t\t\t\tcorrect_word = word_corrector(word)\n",
        "\n",
        "\t\t\t\tfor correct in correct_word:\n",
        "\t\t\t\t\tif correct in word_dict.keys():\n",
        "\t\t\t\t\t\tphrase1.append(word_dict[correct])\n",
        "\t\t\t\t\telse:\n",
        "\t\t\t\t\t\tphrase1.append(word_dict[\"EMPTY\"])\n",
        "\n",
        "\t\t\tfor word in pair[1]:\n",
        "\t\t\t\tcorrect_word = word_corrector(word)\n",
        "\n",
        "\t\t\t\tfor correct in correct_word:\n",
        "\t\t\t\t\tif correct in word_dict.keys():\n",
        "\t\t\t\t\t\tphrase2.append(word_dict[correct])\n",
        "\t\t\t\t\telse:\n",
        "\t\t\t\t\t\tphrase2.append(word_dict[\"EMPTY\"])\n",
        "\n",
        "\t\t\tphrase1 = [1] + phrase1 + [2]\n",
        "\t\t\tphrase2 = [1] + phrase2 + [2]\n",
        "\t\t\n",
        "\t\t\tif not word_dict[\"EMPTY\"] in phrase1[1:] and not word_dict[\"EMPTY\"] in phrase2[1:] and \\\n",
        "\t\t\t\t (not (len(phrase1) > MAX_TOKENS_X + 8 or len(phrase2) > MAX_TOKENS_Y + 8)):\n",
        "\t\t\t\tl1 = len(phrase1)\n",
        "\t\t\t\tfor token_idx in range(l1):\n",
        "\t\t\t\t\tphrase1_reverse.append(phrase1[l1-token_idx-1])\n",
        "\t \n",
        "\t\t\t\tconverted_x.append(phrase1)\n",
        "\t\t\t\tconverted_y.append(phrase2)\n",
        "\t\t\t\tconverted_x_reverse.append(phrase1_reverse)\n",
        "\n",
        "\t\t\t\tsizes_x.append(len(phrase1))\n",
        "\t\t\t\tsizes_y.append(len(phrase2))\n",
        "\t\n",
        "\tlength = len(sizes_x)\n",
        "\tsizes_x = np.array(sizes_x)\n",
        "\tsizes_y = np.array(sizes_y)\n",
        "\n",
        "\treturn converted_x, converted_y, converted_x_reverse, sizes_x.astype(np.int32), sizes_y.astype(np.int32)\n",
        "\n",
        "def calc_bleu_score(out, target):\n",
        "\tsf = bleu_score.SmoothingFunction()\n",
        "\treturn bleu_score.sentence_bleu(target, out, smoothing_function=sf.method1, weights=(0.5, 0.5))\n",
        "\n",
        "\n",
        "def get_words_from_tokens(sentence, token_dict):\n",
        "\treturn [token_dict[value] for value in sentence]\n",
        "\n",
        "\n",
        "\n",
        "\n",
        "\n",
        "\t"
      ],
      "execution_count": 0,
      "outputs": []
    },
    {
      "cell_type": "markdown",
      "metadata": {
        "id": "s4B3MZuD9NCO",
        "colab_type": "text"
      },
      "source": [
        "\n",
        "functions above are used to prepare and preprocces phrase_pairs dataset for training"
      ]
    },
    {
      "cell_type": "code",
      "metadata": {
        "id": "AZVOuTMl0Nkz",
        "colab_type": "code",
        "outputId": "39abf9a0-0fee-4361-d304-cb7264d8474e",
        "colab": {
          "base_uri": "https://localhost:8080/",
          "height": 70
        }
      },
      "source": [
        "\n",
        "\n",
        "print(\"constructing vectorspace for pharse pairs dataset...\")\n",
        "\n",
        "phrase_pairs, dialogues = get_phrase_pairs(genres = GENRES.split(\",\"), exception = WITH_EXCEPTION)\n",
        "phrase_pairs = make_addition(phrase_pairs)\n",
        "word_dict = get_word_dict2(phrase_pairs)\n",
        "\n",
        "\n",
        "phrase_number = len(phrase_pairs)\n",
        "inverse_word_dict = {}\n",
        "\n",
        "for key in word_dict.keys():\n",
        "  inverse_word_dict[word_dict[key]] = key\n",
        "\n",
        "inverse_emb_dict = {}\n",
        "\n",
        "\n",
        "print(\"phrases are loaded\")\n"
      ],
      "execution_count": 0,
      "outputs": [
        {
          "output_type": "stream",
          "text": [
            "constructing vectorspace for pharse pairs dataset...\n",
            "Total number of loaded phrases not in horror,thriller,war movies is : 101717\n",
            "phrases are loaded\n"
          ],
          "name": "stdout"
        }
      ]
    },
    {
      "cell_type": "markdown",
      "metadata": {
        "id": "iZ8fWUuq9XtH",
        "colab_type": "text"
      },
      "source": [
        "Code above reads and filters phrase pairs for training dataset.\n"
      ]
    },
    {
      "cell_type": "code",
      "metadata": {
        "id": "2UWZfYUz0PDW",
        "colab_type": "code",
        "outputId": "b620f896-783a-42c4-a689-5632fa4831f0",
        "colab": {
          "base_uri": "https://localhost:8080/",
          "height": 141
        }
      },
      "source": [
        "print(\"preparing and preprocces dataset...\")\n",
        "\n",
        "converted_x, converted_y, converted_x_reverse, true_lengths_x, true_lengths_y = convert_phrases2(phrase_pairs, word_dict)\n",
        "\n",
        "width_x = int(max(true_lengths_x))\n",
        "width_y = int(max(true_lengths_y))\n",
        "\n",
        "sparse_x = np.zeros((len(true_lengths_x), width_x))\n",
        "sparse_y = np.zeros((len(true_lengths_x), width_y))\n",
        "sparse_x_reverse = np.zeros((len(true_lengths_x), width_x))\n",
        "semi_hot_y = np.zeros((len(true_lengths_x), width_y))\n",
        "\n",
        "\n",
        "#padding each sequence in x_data and y_data\n",
        "for i in range(len(true_lengths_x)):\n",
        "    sparse_x[i, : true_lengths_x[i]] = np.array(converted_x[i])\n",
        "    sparse_y[i, : true_lengths_y[i]] = np.array(converted_y[i])\n",
        "    sparse_x_reverse[i, : true_lengths_x[i]] = np.array(converted_x_reverse[i])\n",
        "    semi_hot_y[i, : true_lengths_y[i]] = np.ones((true_lengths_y[i]))\n",
        "\n",
        "#semi_hot_y is needed to mask not needed losses of empty elements in sequence\n",
        "\n",
        "length = len(true_lengths_x)\n",
        "\n",
        "#lengths_x_one_hot is needed to mask hidden states retrieved from empty part of x sequence\n",
        "lengths_x_onehot = tf.one_hot(np.array(true_lengths_x) - 1, width_x)\n",
        "\n",
        "# and now we need to get rid of extra words in word_dict after we filtered phrase_pairs by lengths and unknown words \n",
        "# and convert phrases without extra tokens corresponding to those words\n",
        "unique_tokens = np.unique(np.concatenate((np.unique(sparse_x), np.unique(sparse_y)), axis = 0))\n",
        "transfer_tokens = {}\n",
        "transfer_dict = {}\n",
        "\n",
        "for key in word_dict.keys():\n",
        "    inverse_word_dict[word_dict[key]] = key\n",
        "\n",
        "\n",
        "for i in range(len(unique_tokens)):\n",
        "    transfer_tokens[unique_tokens[i]] = i\n",
        "    transfer_dict[inverse_word_dict[unique_tokens[i]]] = i\n",
        "\n",
        "inverse_word_dict = {}\n",
        "\n",
        "for key in transfer_dict.keys():\n",
        "    inverse_word_dict[transfer_dict[key]] = key\n",
        "\n",
        "word_dict = transfer_dict\n",
        "\n",
        "for i in range(length):\n",
        "    for j in range(width_x):\n",
        "        sparse_x[i,j] = transfer_tokens[sparse_x[i,j]]\n",
        "        sparse_x_reverse[i,j] = transfer_tokens[sparse_x_reverse[i,j]]\n",
        "\n",
        "    for k in range(width_y):\n",
        "        sparse_y[i,k] = transfer_tokens[sparse_y[i,k]]\n",
        "\n",
        "sparse_x = tf.convert_to_tensor(sparse_x, dtype = tf.int32)  \n",
        "sparse_y = tf.convert_to_tensor(sparse_y, dtype = tf.int32) \n",
        "sparse_x_reverse = tf.convert_to_tensor(sparse_x_reverse, dtype = tf.int32)  \n",
        "semi_hot_y = tf.convert_to_tensor(semi_hot_y, dtype = tf.int32)\n",
        "\n",
        "dict_size = len(list(word_dict.values()))    \n",
        "\n",
        "\n",
        "print(\"original dict_size:\", dict_size)\n",
        "print(\"number of phrase_pairs:\", length)\n",
        "print(\"min word frequency:\", MIN_TOKEN_FREQ)\n",
        "print(\"max phrase1 length:\", MAX_TOKENS_X)\n",
        "print(\"max phrase2 length:\", MAX_TOKENS_Y)\n",
        "print(\"data is ready\")"
      ],
      "execution_count": 0,
      "outputs": [
        {
          "output_type": "stream",
          "text": [
            "preparing and preprocces dataset...\n",
            "original dict_size: 6271\n",
            "number of phrase_pairs: 33538\n",
            "min word frequency: 3\n",
            "max phrase1 length: 12\n",
            "max phrase2 length: 10\n",
            "data is ready\n"
          ],
          "name": "stdout"
        }
      ]
    },
    {
      "cell_type": "code",
      "metadata": {
        "id": "wPi2NCNy2oq0",
        "colab_type": "code",
        "colab": {}
      },
      "source": [
        "weights = []\n",
        "weights.append(seq2seq.emb_layer.get_weights())\n",
        "weights.append(seq2seq.decoder.get_weights())\n",
        "weights.append(seq2seq.encoder.get_weights())\n",
        "weights.append(seq2seq.interpreter.get_weights())"
      ],
      "execution_count": 0,
      "outputs": []
    },
    {
      "cell_type": "markdown",
      "metadata": {
        "id": "CkbZbjfF9gc6",
        "colab_type": "text"
      },
      "source": [
        "As well as TPU v1 can be executed only with static computational graph, recurrent layers have to be unrolled to train on TPU, as it needs to be unrolled all the training data must have fixed shape. \n",
        "\n",
        "In order to train seq2seq model with variable size input sequences, lenghts of train instances are encoded as one_hot for x_sequence vectors and semi_hot vectors for y_sequence (semi_hot means vector of ones of sequence lengths and zeroes for the rest).\n",
        "\n",
        "This vectors are multiplied with network output during training so non-zero gradient for each sequence will have variable lengths as training sequences and rest of the gradients will be zero.\n"
      ]
    },
    {
      "cell_type": "code",
      "metadata": {
        "id": "7BqQEsqP0Qkl",
        "colab_type": "code",
        "colab": {}
      },
      "source": [
        "with tpu_strategy.scope():\n",
        "\n",
        "\n",
        "    class Seq2Seq(tf.keras.Model):\n",
        "\n",
        "        ''' inherited from tf.keras.model class simle seq2seq model class with one embedding layer, 2 recurrent layers and two dense layers  '''\n",
        "\n",
        "        def __init__(   self, hidden_size, emb_size, \n",
        "                        word_dict, inverse_word_dict ):\n",
        "\n",
        "            super(Seq2Seq, self).__init__()\n",
        "            self.dict_size = len(word_dict)\n",
        "            self.hidden_size = hidden_size\n",
        "            self.emb_size = emb_size\n",
        "            self.word_dict = word_dict\n",
        "            self.inverse_word_dict = inverse_word_dict\n",
        "\n",
        "            self.emb_layer = tf.keras.layers.Embedding(self.dict_size, emb_size)\n",
        "\n",
        "            self.decoder = tf.keras.layers.LSTM( units = hidden_size, recurrent_activation = \"sigmoid\",\n",
        "                                                kernel_regularizer=regularizers.l2(0.003),\n",
        "                                                recurrent_regularizer=regularizers.l2(0.003), \n",
        "                                                bias_regularizer=regularizers.l2(0.003),\n",
        "                                                dropout = 0.05, recurrent_dropout = 0,\n",
        "                                                return_state = True, return_sequences = True, \n",
        "                                                unroll = True )\n",
        "            \n",
        "            self.encoder = tf.keras.layers.LSTM( units = hidden_size, recurrent_activation = \"sigmoid\",\n",
        "                                               kernel_regularizer=regularizers.l2(0.003), \n",
        "                                               recurrent_regularizer=regularizers.l2(0.003),\n",
        "                                               bias_regularizer=regularizers.l2(0.003),\n",
        "                                                dropout = 0, recurrent_dropout = 0, \n",
        "                                               return_state = True, unroll = True )\n",
        "            \n",
        "            self.encoder_reverse = tf.keras.layers.GRU( units = hidden_size, recurrent_activation = \"sigmoid\", \n",
        "                                                       kernel_regularizer=regularizers.l2(0.003), \n",
        "                                                       recurrent_regularizer=regularizers.l2(0.003), \n",
        "                                                       bias_regularizer=regularizers.l2(0.003),\n",
        "                                                        dropout = 0, recurrent_dropout = 0, \n",
        "                                                       return_state = True, unroll = True )\n",
        "            \n",
        "            self.interpreter = tf.keras.Sequential([ tf.keras.layers.Dense(self.dict_size) ])\n",
        "            self.end_words = [\".\"]\n",
        "\n",
        "\n",
        "        def get_words(self, tokens):\n",
        "\n",
        "            '''fucntion that returns words from output tokens'''\n",
        "\n",
        "            words = []\n",
        "            prev_token = None\n",
        "            for token in tokens:\n",
        "                if token != prev_token:\n",
        "                    words.append(self.inverse_word_dict[token])\n",
        "                    prev_token = token\n",
        "                    \n",
        "            return words\n",
        "\n",
        "\n",
        "\n",
        "        def encode_sequence(self, x_batch, x_batch_reverse, one_hot_x, seq_len, train):\n",
        "\n",
        "            ''' encode sequence method, that returns hidden state for encoder for each input x_sequence'''\n",
        "\n",
        "            batch_size = np.shape(x_batch)[0]\n",
        "            hidden_total = tf.zeros([batch_size, self.hidden_size])\n",
        "            hidden_state = tf.zeros([batch_size, self.hidden_size])\n",
        "            hidden_total_reverse = tf.zeros([batch_size, self.hidden_size])\n",
        "            hidden_state_reverse = tf.zeros([batch_size, self.hidden_size])\n",
        "            for i in range(seq_len):\n",
        "                _ , hidden_state, hidden_state_reverse = self.encoder(x_batch[:,i:i+1], [hidden_state, hidden_state_reverse], training = train)\n",
        "                hidden_total += one_hot_x[:,i,None] * hidden_state\n",
        "                hidden_total_reverse += one_hot_x[:,i,None] * hidden_state_reverse\n",
        "            return [hidden_total, hidden_total_reverse]\n",
        "\n",
        "\n",
        "        def decode_sequence(self, hidden, y_batch, train ):\n",
        "\n",
        "            ''' method for training seq2seq with teacher \n",
        "                witch takes as argument encoded hidden state from x_input sequence\n",
        "            '''\n",
        "\n",
        "            output, _, _ = self.decoder(y_batch, hidden, training = train)\n",
        "            return self.interpreter(output)\n",
        "\n",
        "\n",
        "        def decode_chain_sequence_argmax(self, hidden, seq_len, train):\n",
        "\n",
        "            ''' method for training seq2seq without teacher \n",
        "                that takes as argument encoded hidden state and generates output as a chain sequence\n",
        "            '''\n",
        "\n",
        "            total_output = []\n",
        "            batch_size = np.shape(hidden[0])[0]\n",
        "            current_emb =  self.emb_layer(tf.ones((batch_size, 1)))\n",
        "\n",
        "            for i in range(seq_len):\n",
        "                output, hidden_h, hidden_c = self.decoder(current_emb, hidden, training = train)\n",
        "                hidden = [hidden_h, hidden_c]\n",
        "                current_distribution = self.interpreter(output)\n",
        "                total_output.append(current_distribution)\n",
        "                current_word = tf.argmax(current_distribution, axis=-1)\n",
        "                current_emb = self.emb_layer(current_word)\n",
        "\n",
        "            return tf.concat(total_output, axis = 1)\n",
        "\n",
        "\n",
        "        def decode_chain_sequence_sample(self, hidden, seq_len, train):\n",
        "\n",
        "            ''' method for training seq2seq without teacher \n",
        "                that takes as argument encoded hidden state and generates output as a chain sequence\n",
        "            '''\n",
        "\n",
        "            total_output = []\n",
        "            batch_size = np.shape(hidden[0])[0]\n",
        "            current_emb =  self.emb_layer(tf.ones((batch_size, 1)))\n",
        "            sampled_tokens = []\n",
        "\n",
        "            for i in range(seq_len):\n",
        "                output, hidden_h, hidden_c = self.decoder(current_emb, hidden, training = train)\n",
        "                hidden = [hidden_h, hidden_c]\n",
        "                current_distribution = self.interpreter(output)\n",
        "                total_output.append(current_distribution)\n",
        "                current_word = tf.random.categorical(current_distribution[:,0,:], 1)\n",
        "                sampled_tokens.append(current_word)\n",
        "                current_emb = self.emb_layer(current_word)\n",
        "\n",
        "            return tf.concat(total_output, axis = 1), tf.concat(sampled_tokens, axis = 1)\n",
        "\n",
        "\n",
        "        def call(self, input_x, input_x_reverse, input_y, one_hot_x, train = True):\n",
        "\n",
        "            ''' forward method for training with teacher'''\n",
        "\n",
        "            seq_len_x = np.shape(input_x)[1]\n",
        "            input_x_reverse = self.emb_layer(input_x_reverse)\n",
        "            input_x = self.emb_layer(input_x)\n",
        "            input_y = self.emb_layer(input_y)\n",
        "            hidden = self.encode_sequence(input_x, input_x_reverse, one_hot_x, seq_len_x, train)\n",
        "            predictions = self.decode_sequence(hidden, input_y, train)\n",
        "            return predictions\n",
        "\n",
        "\n",
        "        def call_2(self, input_x, input_x_reverse, one_hot_x, seq_len_y, train = True):\n",
        "\n",
        "            ''' forward method for training without teacher'''\n",
        "\n",
        "            seq_len_x = np.shape(input_x)[1]\n",
        "            input_x_reverse = self.emb_layer(input_x_reverse)\n",
        "            input_x = self.emb_layer(input_x)\n",
        "            hidden = self.encode_sequence(input_x, input_x_reverse, one_hot_x, seq_len_x, train)\n",
        "            predictions = self.decode_chain_sequence_argmax(hidden, seq_len_y, train)\n",
        "            return predictions\n",
        "\n",
        "\n",
        "        def call_sample(self, input_x, input_x_reverse, one_hot_x, seq_len_y, train = True):\n",
        "\n",
        "            ''' forward method for training without teacher'''\n",
        "\n",
        "            seq_len_x = np.shape(input_x)[1]\n",
        "            input_x_reverse = self.emb_layer(input_x_reverse)\n",
        "            input_x = self.emb_layer(input_x)\n",
        "            hidden = self.encode_sequence(input_x, input_x_reverse, one_hot_x, seq_len_x, train)\n",
        "            predictions, sampled_tokens = self.decode_chain_sequence_sample(hidden, seq_len_y, train)\n",
        "            return predictions, sampled_tokens\n",
        "\n",
        "\n",
        "\n",
        "        def save(self):\n",
        "            weights = []\n",
        "            weights.append(self.emb_layer.get_weights())\n",
        "            weights.append(self.decoder.get_weights())\n",
        "            weights.append(self.encoder.get_weights())\n",
        "            for layer in self.interpreter.layers:\n",
        "                weights.append(layer.get_weights())\n",
        "            return weights\n",
        "\n",
        "\n",
        "\n",
        "\n",
        "\n",
        "        def decode_chain_sequence_test(self, hidden, r = 0, sampling = False):\n",
        "\n",
        "            ''' method applied to trained seq2seq that generate output sequence for each input phrase ''' \n",
        "\n",
        "            current_emb =  self.emb_layer(tf.ones((1, 1)))\n",
        "            total_output = []\n",
        "\n",
        "            if r > 0:\n",
        "                current_emb += tf.convert_to_tensor(np.random.rand(1, self.emb_size), dtype = tf.float32) * 0.1 * r\n",
        "\n",
        "            for _ in range(15):\n",
        "                output, hidden_h, hidden_c = self.decoder(current_emb, hidden, training = False)\n",
        "                hidden = [hidden_h, hidden_c]\n",
        "                current_distribution = self.interpreter(output)\n",
        "                if sampling:\n",
        "                    current_word = tf.random.categorical(current_distribution[0,:,:], 1)\n",
        "                else:\n",
        "                    current_word = tf.argmax(current_distribution, axis = -1 )\n",
        "                if (self.inverse_word_dict[current_word.numpy()[0,0]] == \"END\" ) or \\\n",
        "                    (self.inverse_word_dict[current_word.numpy()[0,0]] == \"EMPTY\"):\n",
        "                    if len(total_output) < 1:\n",
        "                        return self.decode_chain_sequence_test(hidden, r+1)\n",
        "                    else:\n",
        "                        return total_output\n",
        "\n",
        "                total_output.append(current_word.numpy()[0,0])  \n",
        "                current_emb = self.emb_layer(current_word)\n",
        "                r = 0\n",
        "\n",
        "            return total_output  \n",
        "\n",
        "\n",
        "        def encode_sequence_test(self, x, x_reverse):\n",
        "\n",
        "            ''' method applied to trained seq2seq model, returns hidden state for each input sequence'''\n",
        "\n",
        "            _ , hidden, hidden_reverse = self.encoder(x[None, :, :], training = False )\n",
        "            return [hidden, hidden_reverse]  \n",
        "\n",
        "\n",
        "\n",
        "\n",
        "        def predict(self, phrase, sampling = False):\n",
        "\n",
        "            ''' method applied on trained seq2seq that returns output phrase on each input phrase'''\n",
        "            \n",
        "            phrase_tokens = []\n",
        "\n",
        "            for word in phrase:\n",
        "                if word in self.word_dict.keys():\n",
        "                    phrase_tokens.append(self.word_dict[word])\n",
        "\n",
        "            phrase_tokens = phrase_tokens\n",
        "            phrase_tokens_reverse = [phrase_tokens[len(phrase_tokens)-1-i] for i in range(len(phrase_tokens))]\n",
        "\n",
        "            inputs = []\n",
        "            inputs_reverse = []\n",
        "\n",
        "            for word in phrase_tokens:\n",
        "                inputs.append(self.emb_layer(word))\n",
        "            \n",
        "            for word in phrase_tokens_reverse:\n",
        "                inputs_reverse.append(self.emb_layer(word))\n",
        "\n",
        "            inputs = tf.convert_to_tensor(inputs, dtype = tf.float32)\n",
        "            inputs_reverse = tf.convert_to_tensor(inputs_reverse, dtype = tf.float32)\n",
        "            hidden = self.encode_sequence_test(inputs, inputs_reverse)\n",
        "            output = self.decode_chain_sequence_test(hidden, sampling = sampling)\n",
        "            output_words = self.get_words(output)\n",
        "\n",
        "            return output_words\n",
        "\n"
      ],
      "execution_count": 0,
      "outputs": []
    },
    {
      "cell_type": "markdown",
      "metadata": {
        "id": "mFaWVdbO9wpS",
        "colab_type": "text"
      },
      "source": [
        "In code above class of seq2seq model for training is subclassed from tf.keras.model class"
      ]
    },
    {
      "cell_type": "code",
      "metadata": {
        "id": "22NeQkmr0SSL",
        "colab_type": "code",
        "colab": {}
      },
      "source": [
        "\n",
        "with tpu_strategy.scope():\n",
        "\n",
        "    def ngramm_recall_score( predictions, labels,\n",
        "                                semi_hot_y,\n",
        "                                seq_len,\n",
        "                                weights = tf.convert_to_tensor([1.,1.,1.,1.]) ):\n",
        "        \n",
        "        max_seq_len = np.shape(labels)[1]\n",
        "        batch_size = np.shape(labels)[0]\n",
        "        lengths = tf.where(tf.equal(predictions, 2), 1., 0.) * \\\n",
        "                            tf.range(0, max_seq_len, dtype = tf.float32)[None, :]\n",
        "        lengths  += tf.cast(tf.where(tf.equal(predictions, 2), \n",
        "                                     0., max_seq_len), dtype = tf.float32)\n",
        "        lengths = tf.reduce_min(lengths, axis = 1)\n",
        "        semihot_predictions = tf.ones((batch_size, max_seq_len), dtype = tf.float32) * \\\n",
        "                                        tf.range(0, max_seq_len, dtype = tf.float32)[None, :]\n",
        "        semihot_predictions = tf.where(semihot_predictions <= lengths[:, None], 1., 0.)\n",
        "        predictions = tf.cast(predictions, tf.int32)\n",
        "        labels = tf.cast(labels, tf.int32)\n",
        "\n",
        "        n1_gramms = 0\n",
        "        for token_idx in range(max_seq_len):\n",
        "            n1_gramms += tf.math.sign( tf.reduce_sum( tf.where(tf.equal(labels[ :, token_idx : token_idx + 1], \n",
        "                                                                        predictions), 1., 0.) * \\\n",
        "                                                     semi_hot_y[ :, token_idx : token_idx + 1] * \\\n",
        "                                                     semihot_predictions , axis = 1) )\n",
        "        n1_gramms /= seq_len\n",
        "            \n",
        "        n2_gramms = 0\n",
        "        for token_idx in range(max_seq_len-1):\n",
        "            n2_gramms += tf.math.sign( tf.reduce_sum( tf.where(tf.equal(labels[ :, token_idx : token_idx + 1], predictions[:,:-1]), 1., 0.) * \\\n",
        "                                                     semi_hot_y[:, token_idx : token_idx + 1] * \\\n",
        "                                                      tf.where(tf.equal(labels[ :, token_idx + 1 : token_idx + 2], predictions[:,1:]), 1., 0.) * \\\n",
        "                                                      semi_hot_y[:, token_idx + 1 : token_idx + 2] *\\\n",
        "                                                      semihot_predictions[:,1:] , axis = 1) )\n",
        "        n2_gramms /= tf.maximum((seq_len - 1.), 1.)\n",
        "\n",
        "        n3_gramms = 0\n",
        "        for token_idx in range(max_seq_len-2):\n",
        "            n3_gramms += tf.math.sign( tf.reduce_sum( tf.where( tf.equal(labels[ :, token_idx : token_idx + 1], \n",
        "                                                                        predictions[:,:-2]), 1., 0. ) * \\\n",
        "                                                    semi_hot_y[ :, token_idx : token_idx + 1] * \\\n",
        "                                                      tf.where( tf.equal(labels[ :, token_idx + 1 : token_idx + 2], \n",
        "                                                                        predictions[:,1:-1]), 1., 0. ) * \\\n",
        "                                                     semi_hot_y[ :, token_idx + 1 : token_idx + 2] * \\\n",
        "                                                      tf.where( tf.equal(labels[ :, token_idx + 2 : token_idx + 3],\n",
        "                                                                        predictions[:,2:]), 1., 0. ) * \\\n",
        "                                                     semi_hot_y[ :, token_idx + 2 : token_idx + 3]  * \\\n",
        "                                                      semihot_predictions[:,2:] , axis = 1) )      \n",
        "        n3_gramms /= tf.maximum((seq_len - 2.), 1.)\n",
        "\n",
        "        n4_gramms = 0\n",
        "        for token_idx in range(max_seq_len-3):\n",
        "            n4_gramms += tf.math.sign( tf.reduce_sum( tf.where(tf.equal(labels[ :, token_idx : token_idx + 1],\n",
        "                                                                        predictions[:,:-3]), 1., 0.) * \\\n",
        "                                                     semi_hot_y[ :, token_idx : token_idx + 1] * \\\n",
        "                                                      tf.where(tf.equal(labels[ :, token_idx + 1 : token_idx + 2], \n",
        "                                                                        predictions[:,1:-2]), 1., 0.) * \\\n",
        "                                                     semi_hot_y[ :, token_idx + 1 : token_idx + 2] * \\\n",
        "                                                      tf.where(tf.equal(labels[ :, token_idx + 2 : token_idx + 3], \n",
        "                                                                        predictions[:,2:-1]), 1., 0.) * \\\n",
        "                                                     semi_hot_y[ :, token_idx + 2 : token_idx + 3] * \\\n",
        "                                                      tf.where(tf.equal(labels[ :, token_idx + 3 : token_idx + 4], \n",
        "                                                                        predictions[:,3:]), 1., 0.) * \\\n",
        "                                                      semi_hot_y[ :, token_idx + 3 : token_idx + 4] * \\\n",
        "                                                      semihot_predictions[:,3:] , axis = 1) )\n",
        "        n4_gramms /= tf.maximum((seq_len - 3.), 1.)\n",
        "\n",
        "        labels_lengths = tf.reduce_sum(semi_hot_y, axis = 1)\n",
        "        predictions_lengths = tf.reduce_sum(semihot_predictions, axis = 1)\n",
        "        len_diff = tf.where(labels_lengths < predictions_lengths, predictions_lengths - labels_lengths, 0)\n",
        "\n",
        "        recall_penalty = 1 / (1.5/(1.5+tf.math.exp(-len_diff/2)))\n",
        "        recall_penalty /= tf.reduce_max(recall_penalty)\n",
        "\n",
        "        n_gramms = tf.stack([n1_gramms, n2_gramms, n3_gramms, n4_gramms], axis = 1)\n",
        "        weights /=tf.reduce_sum(weights)\n",
        "\n",
        "        return tf.reduce_sum(n_gramms*weights[None,:], axis = 1)*recall_penalty\n",
        "        \n",
        "\n",
        "\n"
      ],
      "execution_count": 0,
      "outputs": []
    },
    {
      "cell_type": "markdown",
      "metadata": {
        "id": "JDieqCgc-tpp",
        "colab_type": "text"
      },
      "source": [
        "One of the most eficcient metrics to evaluate similarity between two sentences is Bleu score ot Bilingual evaluation understudy score, with calculates modified precision of two sencences based of n_gramms precision, in code above is implemented function which calculates BLEU score for multiple sentences in parallel."
      ]
    },
    {
      "cell_type": "code",
      "metadata": {
        "id": "JKw4vhGf0T2h",
        "colab_type": "code",
        "colab": {}
      },
      "source": [
        "\n",
        "\n",
        "with tpu_strategy.scope():\n",
        "\n",
        "\n",
        "\tdef get_argmax_recall(labels, predictions, semi_hot_y, seq_lens):\n",
        "\n",
        "\t\tpredictions_argmax = tf.stop_gradient(tf.argmax(predictions, axis = -1))\n",
        "  \n",
        "\t\targmax_recall = ngramm_recall_score( predictions_argmax, labels,\n",
        "\t\t\t\t\t\t\t\t\t\t\tsemi_hot_y,\n",
        "\t\t\t\t\t\t\t\t\t\t\tseq_lens )\n",
        "  \n",
        "\t\treturn tf.nn.compute_average_loss(argmax_recall, global_batch_size=BATCH_SIZE)\n",
        "\n",
        "\n",
        "\n",
        "\tdef compute_loss1(labels, predictions, \n",
        "\t\t\t\t\t\tsemi_hot_y):\n",
        "\n",
        "\t\t''' cross_entropy_loss function for distributed strategy'''\n",
        "\n",
        "\t\tper_example_loss = loss_object(labels, predictions)*semi_hot_y\n",
        "\t\treturn tf.nn.compute_average_loss(per_example_loss , global_batch_size=BATCH_SIZE)\n",
        "\n",
        "\n",
        "\n",
        "\tdef compute_loss2(labels, predictions_probabilities_argmax, predictions_probabilities_sample,\n",
        "\t\t\t\t\t\tsampled_tokens,\n",
        "\t\t\t\t\t\tsemi_hot_y,\n",
        "\t\t\t\t\t\tseq_lens):\n",
        "\n",
        "\t\t'''log_probability loss for correcting output probalility distribution for distributed strategy'''\n",
        "\n",
        "\t\tprobabilities_no_grad = tf.stop_gradient(predictions_probabilities_argmax)\n",
        "\t\targmax_tokens = tf.stop_gradient(tf.cast(tf.argmax(probabilities_no_grad, axis = -1), tf.float32))\n",
        "\t\tsampled_tokens = tf.stop_gradient(tf.cast(sampled_tokens, tf.float32))\n",
        "  \n",
        "\t\tlabels = tf.cast(labels, tf.float32)\n",
        "\t\tbatch_size = np.shape(labels)[0]\n",
        "\t\tmax_seq_len = np.shape(labels)[1]\n",
        "\t\tsemihot_sampled = []\n",
        "\t\tsample_recall = []\n",
        "        \n",
        "\t\tfor idx in range(np.shape(sampled_tokens)[0]):\n",
        "\t\t\t\n",
        "\t\t\tsampled_lengths = tf.where(tf.equal(sampled_tokens[idx, :, :], 2), 1., 0.) * \\\n",
        "\t\t\t\t\t\t\t\ttf.range(0, max_seq_len, dtype = tf.float32)[None, :]\n",
        "\n",
        "\t\t\tsampled_lengths  += tf.cast(tf.where(tf.equal(sampled_tokens[idx, :, :], 2),\n",
        "\t\t\t                                     0., max_seq_len), dtype = tf.float32)\n",
        "   \n",
        "\t\t\tsampled_lengths = tf.reduce_min(sampled_lengths, axis = 1)\n",
        "\t\t\tsemihot_sampled_ = tf.ones((batch_size, max_seq_len), dtype = tf.float32) * \\\n",
        "\t\t\t\t\t\t\t\ttf.range(0, max_seq_len, dtype = tf.float32)[None, :]\n",
        "\n",
        "\t\t\tsemihot_sampled.append(tf.where(semihot_sampled_ <= sampled_lengths[:, None], 1., 0.))\n",
        "\t\t\tsample_recall.append(ngramm_recall_score( sampled_tokens[idx, :, :], labels,\n",
        "                                \t\t\t\t\t\tsemi_hot_y,\n",
        "                                \t\t\t\t\t\tseq_lens ))\n",
        "  \n",
        "\t\targmax_recall = ngramm_recall_score( argmax_tokens, labels,\n",
        "                                \t\t\t\t\t\tsemi_hot_y,\n",
        "                                \t\t\t\t\t\tseq_lens )\n",
        "\t\tlog_probabilities_corrector = []\n",
        "\t\tfor idx in range(np.shape(sampled_tokens)[0]):\n",
        "\t\t\trecall_corrector = tf.where( argmax_recall < 0.97, sample_recall[idx] - argmax_recall , 0. )\n",
        "   \n",
        "\t\t\tgathered_sample_probabilities = tf.gather_nd( - tf.nn.log_softmax(predictions_probabilities_sample[idx,:,:],\n",
        "\t\t\t                                            \t\t\t\t\t\taxis = -1) , \n",
        "\t\t\t                                            tf.cast(sampled_tokens[idx,:,:], tf.int32)[:,:,None],\n",
        "\t\t\t\t\t\t\t\t\t\t\t\t\t\t        batch_dims = 2)\n",
        "   \n",
        "\t\t\tlog_probabilities_corrector.append(gathered_sample_probabilities  * \\\n",
        "\t\t\t                                   recall_corrector[:, None] * \\\n",
        "\t\t\t\t\t\t\t\t\t\t\t    semihot_sampled[idx] )\n",
        "   \n",
        "\t\tlog_probabilities_corrector = tf.concat(log_probabilities_corrector, axis = 0)\n",
        "\t\tsample_recall = tf.concat(sample_recall, axis = 0)\n",
        "\t\treturn tf.nn.compute_average_loss(log_probabilities_corrector, \n",
        "\t\t                                  global_batch_size=BATCH_SIZE*np.shape(sampled_tokens)[0]),  \\\n",
        "               tf.nn.compute_average_loss(sample_recall, global_batch_size=BATCH_SIZE*np.shape(sampled_tokens)[0]), \\\n",
        "               tf.nn.compute_average_loss(argmax_recall, global_batch_size=BATCH_SIZE)\n",
        "\n",
        "\n",
        "\n",
        "\t### For each training method corresponding distributed training step function needs to be constructed \n",
        "\n",
        "\tdef distributed_train_step1(dataset_inputs):\n",
        "\n",
        "\t\t''' function that applies distriuted TPU strategy to train_step1 function'''\n",
        "\n",
        "\t\tper_replica_losses = tpu_strategy.experimental_run_v2(train_step1,\n",
        "\t\t\t\t\t\t\t\t\t\t\t\t\t\t\targs=(dataset_inputs,))\n",
        "\t\treturn tpu_strategy.reduce(tf.distribute.ReduceOp.SUM, per_replica_losses,\n",
        "\t\t\t\t\t\t\t\t\t\t\t\t\taxis=None)\n",
        "\n",
        "\tdef distributed_train_step2(dataset_inputs):\n",
        "\n",
        "\t\t''' function that applies distriuted TPU strategy to train_step2 function'''\n",
        "\n",
        "\t\tper_replica_losses = tpu_strategy.experimental_run_v2(train_step2,\n",
        "\t\t\t\t\t\t\t\t\t\t\t\t\t\t\targs=(dataset_inputs,))\n",
        "\t\treturn tpu_strategy.reduce(tf.distribute.ReduceOp.SUM, per_replica_losses,\n",
        "\t\t\t\t\t\t\t\t\t\t\t\t\taxis=None)\n",
        "\n",
        "\tdef distributed_correction(dataset_inputs):\n",
        "\n",
        "\t\t''' function that applies distriuted TPU strategy to train_step3 function'''\n",
        "\n",
        "\t\tper_replica_losses = tpu_strategy.experimental_run_v2(dist_correction,\n",
        "\t\t\t\t\t\t\t\t\t\t\t\t\t\t\targs=(dataset_inputs,))\n",
        "\t\treturn tpu_strategy.reduce(tf.distribute.ReduceOp.SUM, per_replica_losses,\n",
        "\t\t\t\t\t\t\t\t\t\t\t\t\taxis=None)\n",
        "\n",
        "\n",
        "\t@tf.function\n",
        "\tdef train_step1(inputs):\n",
        "\n",
        "\t\t''' train_step1 fuction for crossentropy teacher training method \n",
        "\t\t\twith @tf.function decorator that assures construction of static computation graph for training\n",
        "\t\t\tfunction returns crosscntropy_loss regardless wich loss was \n",
        "\t\t\tapplied at training step in order to track loss value during training loop\n",
        "\t\t'''\n",
        "\t\tinput_x = inputs[0]\n",
        "\t\tinput_x_reverse = inputs[1]\n",
        "\t\tinput_y = inputs[2]\n",
        "\t\tone_hot_x = inputs[3]\n",
        "\t\tsemi_hot_y = tf.cast(inputs[4], tf.float32)\n",
        "\t\twith tf.GradientTape() as tape:\n",
        "\t\t\tpredictions = seq2seq(input_x, input_x_reverse, input_y[:,:-1], one_hot_x)\n",
        "\t\t\tloss = compute_loss1(input_y[:,1:], predictions, semi_hot_y[:,1:])\n",
        "\t\tgradients = tape.gradient(loss, seq2seq.trainable_variables)\n",
        "\t\toptimizer1.apply_gradients(zip(gradients, seq2seq.trainable_variables))\n",
        "\t\treturn loss\n",
        "\n",
        "\n",
        "\t@tf.function\n",
        "\tdef train_step2(inputs):\n",
        "\n",
        "\t\t''' train_step2 fuction for crossentropy chain_sequence training method \n",
        "\t\t'''\n",
        "\t\tinput_x = inputs[0]\n",
        "\t\tinput_x_reverse = inputs[1]\n",
        "\t\tinput_y = inputs[2]\n",
        "\t\tone_hot_x = inputs[3]\n",
        "\t\tsemi_hot_y = tf.cast(inputs[4], tf.float32)\n",
        "\t\tseq_lens = tf.reduce_sum(semi_hot_y[:,1:], axis = 1)\n",
        "\t\twith tf.GradientTape() as tape:\n",
        "\t\t\tpredictions = seq2seq.call_2(input_x, input_x_reverse, one_hot_x, np.shape(input_y)[1]-1)\n",
        "\t\t\tloss = compute_loss1(input_y[:,1:], predictions, semi_hot_y[:,1:])\n",
        "\t\t\targmax_recall = get_argmax_recall(input_y[:,1:], predictions, semi_hot_y[:,1:], seq_lens)\n",
        "\t\tgradients = tape.gradient(loss, seq2seq.trainable_variables)\n",
        "\t\toptimizer2.apply_gradients(zip(gradients, seq2seq.trainable_variables))\n",
        "\n",
        "\t\ttrain_accuracy(input_y[:,1:], tf.keras.activations.softmax(predictions, axis = -1) *\n",
        "\t\t\t\t\tsemi_hot_y[:,1:,None] + (1-semi_hot_y)[:,1:,None ] * \\\n",
        "\t\t\t\t\ttf.one_hot(0,seq2seq.dict_size)[None, None,:]) \n",
        "  \t\t# in order to get correct accuracy we need to mask padded values\n",
        "\n",
        "\t\treturn tf.stack([loss, argmax_recall])\n",
        "\n",
        "\t@tf.function\n",
        "\tdef dist_correction(inputs):\n",
        "\n",
        "\t\t''' dist_correction fuction performs output distribution correction based on word2wec \n",
        "\t\t'''\n",
        "\n",
        "\t\tinput_x = inputs[0]\n",
        "\t\tinput_x_reverse = inputs[1]\n",
        "\t\tinput_y = inputs[2]\n",
        "\t\tone_hot_x = inputs[3]\n",
        "\t\tsemi_hot_y = tf.cast(inputs[4], tf.float32)\n",
        "\t\tseq_lens = tf.reduce_sum(semi_hot_y[:,1:], axis = 1)\n",
        "\t\tpredictions_sample = []\n",
        "\t\tsampled_tokens = []\n",
        "\t\twith tf.GradientTape() as tape:\n",
        "\t\t\tpredictions_argmax = seq2seq.call_2(input_x, input_x_reverse, \n",
        "\t\t\t                                    one_hot_x, np.shape(input_y)[1]-1, train = False)\n",
        "\t\t\tfor _ in range(15):\n",
        "\t\t\t\tsampled_values = seq2seq.call_sample(input_x, input_x_reverse, \n",
        "\t\t\t\t                                     one_hot_x, np.shape(input_y)[1]-1, train = False)\n",
        "\t\t\t\tpredictions_sample.append(sampled_values[0])\n",
        "\t\t\t\tsampled_tokens.append(sampled_values[1])\n",
        "\t\t\tpredictions_sample = tf.stack(predictions_sample, axis = 0)\n",
        "\t\t\tsampled_tokens = tf.stack(sampled_tokens, axis = 0)\n",
        "\t\t\tloss, sample_recall, argmax_recall = compute_loss2(input_y[:,1:], \n",
        "\t\t\t                                    predictions_argmax, predictions_sample, sampled_tokens, semi_hot_y[:,1:], seq_lens)\n",
        "\t\t\tprint_loss = tf.stop_gradient(compute_loss1(input_y[:,1:], predictions_argmax, semi_hot_y[:,1:]))\n",
        "\t\tgradients = tape.gradient(loss, seq2seq.trainable_variables, )\n",
        "\t\toptimizer3.apply_gradients(zip(gradients, seq2seq.trainable_variables))\n",
        "  \n",
        "\t\ttrain_accuracy(input_y[:,1:], tf.keras.activations.softmax(predictions_argmax, axis = -1) *\n",
        "\t\t                 semi_hot_y[:,1:,None] + (1-semi_hot_y)[:,1:,None] * \n",
        "\t\t\t\t\t\t           tf.one_hot(0,seq2seq.dict_size)[None, None,:]) \n",
        "  \t\t# in order to get correct accuracy we need to mask padded values\n",
        "\n",
        "\t\treturn tf.stack([print_loss, sample_recall, argmax_recall], axis = 0)\n",
        "\n",
        "\n",
        "\n"
      ],
      "execution_count": 0,
      "outputs": []
    },
    {
      "cell_type": "markdown",
      "metadata": {
        "id": "VCODAm1dAZgg",
        "colab_type": "text"
      },
      "source": [
        "Above are defined 3 different loss function for training seq2seq model:\n",
        "  1. cross_entropy los function for teacher training method\n",
        "  2. cross_entropy loss function for chain training method\n",
        "  2. probability correction loss function for correcting output probability distribution over, this loss function is applied to sampled sequence rather than argmax and is baed on calculating recall score between labels and sampled sentence"
      ]
    },
    {
      "cell_type": "code",
      "metadata": {
        "id": "vpKMVV_40Vvd",
        "colab_type": "code",
        "colab": {}
      },
      "source": [
        " with tpu_strategy.scope():\n",
        "\n",
        "    def crossentropy_training_loop( train_dist_dataset, \n",
        "                                    teacher_prob,\n",
        "                                    mean_pre_loss, argmax_recals ):\n",
        "\n",
        "        ''' training function for crossentropy training loop\n",
        "        '''\n",
        "\n",
        "        for x in train_dist_dataset:\n",
        "            if np.random.rand() < teacher_prob:\n",
        "                loss = distributed_train_step1(x)\n",
        "            else:\n",
        "                track_values = distributed_train_step2(x)\n",
        "                loss2 = track_values[0]\n",
        "                argmax_recal = track_values[1]\n",
        "                mean_pre_loss.append(loss2)\n",
        "                argmax_recals.append(argmax_recal)\n",
        "        \n",
        "            if teacher_prob == 1:\n",
        "                mean_pre_loss.append(loss)\n",
        "\n",
        "\n",
        "    def correction_training_loop( train_dist_dataset, \n",
        "                                    teacher_prob,\n",
        "                                    mean_pre_loss, mean_sample_bleu, mean_argmax_bleu ):\n",
        "\n",
        "        ''' training function for crossentropy training loop\n",
        "        '''\n",
        "\n",
        "        for x in train_dist_dataset:\n",
        "\n",
        "\n",
        "            track_values = distributed_correction(x)\n",
        "            loss = track_values[0]\n",
        "            sample_bleu = track_values[1]\n",
        "            argmax_bleu = track_values[2]\n",
        "\n",
        "            mean_pre_loss.append(loss)\n",
        "            mean_sample_bleu.append(sample_bleu)\n",
        "            mean_argmax_bleu.append(argmax_bleu)\n",
        "\n",
        "\n",
        "                \n",
        "\n",
        "\n",
        "\n",
        "\t\t\t"
      ],
      "execution_count": 0,
      "outputs": []
    },
    {
      "cell_type": "markdown",
      "metadata": {
        "id": "6VX3cIvQBczc",
        "colab_type": "text"
      },
      "source": [
        "Training circle functions for cross_entropy training method and probability correction is defined in code above"
      ]
    },
    {
      "cell_type": "code",
      "metadata": {
        "id": "oXR7oFz00YZb",
        "colab_type": "code",
        "outputId": "493a299a-fc22-459f-9631-21ccecddd192",
        "colab": {
          "base_uri": "https://localhost:8080/",
          "height": 1000
        }
      },
      "source": [
        "EMBEDDING_SIZE = 128\n",
        "HIDDEN_SIZE = 1024\n",
        "BATCH_SIZE = 2048\n",
        "\n",
        "\n",
        "\n",
        "tf.get_logger().setLevel('ERROR')\n",
        "tf.autograph.set_verbosity(1)\n",
        "\n",
        "with tpu_strategy.scope():\n",
        "\n",
        "\tdef relu(x):\n",
        "\t\tif x < 0:\n",
        "\t\t\treturn 0\n",
        "\t\telse:\n",
        "\t\t\treturn x\n",
        "\n",
        "\n",
        "\t\n",
        "\t#instanciating seq2seq model from seq2seq class\n",
        "\t#seq2seq = Seq2Seq( HIDDEN_SIZE, EMBEDDING_SIZE,\n",
        "\t#\t\t\t\t   word_dict, inverse_word_dict )\n",
        "\n",
        "\t\n",
        "\ttrain_length = np.shape(sparse_x)[0]\n",
        "\ttrain_steps = int(train_length/BATCH_SIZE)\n",
        "\n",
        "\t#defining tf_callbacks and evaluation metrices\n",
        "\ttrain_accuracy = tf.keras.metrics.SparseCategoricalAccuracy('train_accuracy')\n",
        "\tnull_train_acc = np.mean(np.sum(1-semi_hot_y, axis = 1)-1)/np.shape(sparse_y)[1]\n",
        "\n",
        "\ttrain_losses = []\n",
        "\ttrain_accuracies = []\n",
        "\tteacher_method_losses=[]\n",
        "\n",
        "\ttrain_correction_accuracies = []\n",
        "\tcorrection_sample_recall = []\n",
        "\tcorrection_argmax_recall = []\n",
        "\t\n",
        "\n",
        "\tLEARNING_RATE = tf.keras.optimizers.schedules.ExponentialDecay(0.0005, decay_steps = train_steps, decay_rate = 0.985, staircase= True)\n",
        "\tLEARNING_RATE2 = tf.keras.optimizers.schedules.ExponentialDecay(7e-5, decay_steps = train_steps*4, decay_rate = 1.1, staircase= True)    \n",
        "\n",
        "\tloss_object = tf.keras.losses.SparseCategoricalCrossentropy(from_logits = True, reduction=tf.keras.losses.Reduction.NONE)\n",
        "\n",
        "\toptimizer1 = tf.keras.optimizers.Adam(learning_rate=LEARNING_RATE)\n",
        "\toptimizer2 = tf.keras.optimizers.Adam(learning_rate=LEARNING_RATE)\n",
        "\toptimizer3 = tf.keras.optimizers.Adam(learning_rate=LEARNING_RATE2)\n",
        "\toptimizer4 = tf.keras.optimizers.Adam(learning_rate=LEARNING_RATE2)\n",
        "\n",
        "\tn_epochs = 79\n",
        "\tis_cross_entropy = True\n",
        "\tteacher_prob = 0\n",
        "\tprint(\"crossentropy training ... \")\n",
        "\tfor epoch in range(n_epochs):\n",
        "\t\tepoch_start = time.localtime(time.time())\n",
        "\t\t\n",
        "\t\tmean_pre_loss = [0]\n",
        "\t\tmean_sample_recall = []\n",
        "\t\tmean_argmax_recall = []\n",
        "\n",
        "\t\t# in order to make training independent from instances order in batches, \n",
        "\t\t#distributed training dataset have to be shuffled and reconstructed every epoch during training\n",
        "\t\tdataset = tf.data.Dataset.from_tensor_slices((sparse_x, sparse_x_reverse, \n",
        "\t\t                                              sparse_y, lengths_x_onehot,\n",
        "\t\t\t\t\t\t\t\t\t\t\t\t\t    semi_hot_y)).shuffle(150000).batch(BATCH_SIZE, drop_remainder = True) \n",
        "\t\t\t\t \n",
        "\t\ttrain_dist_dataset = tpu_strategy.experimental_distribute_dataset(dataset)\n",
        "  \n",
        "\t\tif epoch == 590:\n",
        "\t\t\tprint(\"distribution correction training...\")\n",
        "\t\t\tteacher_prob = 0\n",
        "\t\t\tis_cross_entropy = False\n",
        "\n",
        "\t\tif(epoch + 1) % 40 == 0 and is_cross_entropy:\n",
        "\t\t\tteacher_prob = 1 - teacher_prob\n",
        "\n",
        "\t\tif is_cross_entropy:    \n",
        "\n",
        "\t\t\tcrossentropy_training_loop( train_dist_dataset, \n",
        "\t\t\t\t\t\t\t\t\t\tteacher_prob, \n",
        "\t\t\t\t\t\t\t\t\t\tmean_pre_loss, mean_argmax_recall)\n",
        "\t\telse:\n",
        "\n",
        "\t\t\tcorrection_training_loop( train_dist_dataset, \n",
        "\t\t\t\t\t\t\t\t\t\tteacher_prob, \n",
        "\t\t\t\t\t\t\t\t\t\tmean_pre_loss, mean_sample_recall, mean_argmax_recall)\n",
        "\n",
        "\t\tepoch_end = time.localtime(time.time())\n",
        "\t\tstart_in_sec = epoch_start[3]*3600 + epoch_start[4]*60 + epoch_start[5]\n",
        "\t\tend_in_sec = epoch_end[3]*3600 + epoch_end[4]*60 + epoch_end[5]\n",
        "\t\tepoch_time = end_in_sec - start_in_sec\n",
        "\n",
        "\t\ttrain_loss = np.mean(mean_pre_loss)\n",
        "\t\ttrain_acc = relu((train_accuracy.result().numpy()-null_train_acc)/(1-null_train_acc))\n",
        "\t\ttrain_accuracy.reset_states()\n",
        "\n",
        "\t\tif is_cross_entropy:\n",
        "\t\t\tif not teacher_prob == 1:\n",
        "\t\t\t\targmax_recall = np.mean(mean_argmax_recall)\n",
        "\t\t\t\tcorrection_argmax_recall.append(argmax_recall)\n",
        "\t\t\t\ttrain_losses.append(train_loss)\n",
        "\t\t\t\ttrain_accuracies.append(train_acc)\n",
        "\t\n",
        "\t\t\t\tprint(\"Epoch: \", epoch,\", Train loss:\", train_loss, \n",
        "\t\t\t\t      \", Train accuracy:\", train_acc, \n",
        "\t\t\t\t\t     \", argmax_recall_score:\", argmax_recall, \n",
        "\t\t\t\t\t\t    \", teacher_prob:\", teacher_prob,\", time: \", \n",
        "\t\t\t\t\t\t\t   epoch_time ,\" sec \")\n",
        "\n",
        "\t\t\telse:\n",
        "\t\t\t\tteacher_method_losses.append(train_loss)\n",
        "\t\t\t\tprint(\"Epoch: \", epoch,\", Train loss:\",\n",
        "\t\t\t\t      train_loss, \", Train accuracy:\",\n",
        "\t\t\t\t\t     train_acc, \", teacher_prob:\", \n",
        "\t\t\t\t\t\t    teacher_prob,\", time: \",\n",
        "\t\t\t\t\t\t\t   epoch_time ,\" sec \")\n",
        "\t\n",
        "\t\n",
        "\n",
        "\t\telse:\n",
        "\t\t\tsample_recall = np.mean(mean_sample_recall)\n",
        "\t\t\targmax_recall = np.mean(mean_argmax_recall)\n",
        "\t\t\tprint(\"Epoch: \", epoch,\", Train loss:\",\n",
        "\t\t\t      train_loss, \", Train accuracy:\", \n",
        "\t\t\t\t     train_acc, \", sample_recall_score:\", \n",
        "\t\t\t\t\t    sample_recall, \", argmax_recall_score:\",\n",
        "\t\t\t\t\t\t   argmax_recall, \", time: \",\n",
        "\t\t\t\t\t\t   epoch_time ,\" sec \")\t\n",
        "\n",
        "\t\t\ttrain_correction_accuracies.append(train_acc)\n",
        "\t\t\tcorrection_sample_recall.append(sample_recall)\n",
        "\t\t\tcorrection_argmax_recall.append(argmax_recall)\n",
        "   \n",
        "\n",
        "\t\n",
        "\t\t\t\t\n",
        "\t\t\n",
        "\n"
      ],
      "execution_count": 0,
      "outputs": [
        {
          "output_type": "stream",
          "text": [
            "crossentropy training ... \n",
            "Epoch:  0 , Train loss: 4.84873171413646 , Train accuracy: 0.8810123019142041 , argmax_recall_score: 0.80986917 , teacher_prob: 0 , time:  22  sec \n",
            "Epoch:  1 , Train loss: 3.3076862868140724 , Train accuracy: 0.8866508689462183 , argmax_recall_score: 0.8082433 , teacher_prob: 0 , time:  2  sec \n",
            "Epoch:  2 , Train loss: 2.843006035860847 , Train accuracy: 0.8891175003098675 , argmax_recall_score: 0.8061794 , teacher_prob: 0 , time:  2  sec \n",
            "Epoch:  3 , Train loss: 2.6492491609909954 , Train accuracy: 0.890301810436445 , argmax_recall_score: 0.80372894 , teacher_prob: 0 , time:  2  sec \n",
            "Epoch:  4 , Train loss: 2.56414831385893 , Train accuracy: 0.891282474027915 , argmax_recall_score: 0.8039131 , teacher_prob: 0 , time:  3  sec \n",
            "Epoch:  5 , Train loss: 2.523783599629122 , Train accuracy: 0.8920782756263114 , argmax_recall_score: 0.8036523 , teacher_prob: 0 , time:  2  sec \n",
            "Epoch:  6 , Train loss: 2.48529247676625 , Train accuracy: 0.8923422536905392 , argmax_recall_score: 0.80364895 , teacher_prob: 0 , time:  2  sec \n",
            "Epoch:  7 , Train loss: 2.4846361384672275 , Train accuracy: 0.8933568399549762 , argmax_recall_score: 0.8041929 , teacher_prob: 0 , time:  3  sec \n",
            "Epoch:  8 , Train loss: 2.471566775265862 , Train accuracy: 0.8930852375766287 , argmax_recall_score: 0.8036009 , teacher_prob: 0 , time:  2  sec \n",
            "Epoch:  9 , Train loss: 2.466896519941442 , Train accuracy: 0.8932361768967356 , argmax_recall_score: 0.80379313 , teacher_prob: 0 , time:  2  sec \n",
            "Epoch:  10 , Train loss: 2.4542835740482105 , Train accuracy: 0.8932851272033295 , argmax_recall_score: 0.8042046 , teacher_prob: 0 , time:  2  sec \n",
            "Epoch:  11 , Train loss: 2.4471189975738525 , Train accuracy: 0.8935303207255235 , argmax_recall_score: 0.8039016 , teacher_prob: 0 , time:  2  sec \n",
            "Epoch:  12 , Train loss: 2.4480760938981 , Train accuracy: 0.8942468957554597 , argmax_recall_score: 0.80503964 , teacher_prob: 0 , time:  2  sec \n",
            "Epoch:  13 , Train loss: 2.43797565908993 , Train accuracy: 0.894292199650953 , argmax_recall_score: 0.80515635 , teacher_prob: 0 , time:  2  sec \n",
            "Epoch:  14 , Train loss: 2.4301333707921646 , Train accuracy: 0.8948956254394621 , argmax_recall_score: 0.8058622 , teacher_prob: 0 , time:  3  sec \n",
            "Epoch:  15 , Train loss: 2.4401400510002587 , Train accuracy: 0.8944091058007868 , argmax_recall_score: 0.80536914 , teacher_prob: 0 , time:  2  sec \n",
            "Epoch:  16 , Train loss: 2.4382596436668846 , Train accuracy: 0.8943751831278199 , argmax_recall_score: 0.8049978 , teacher_prob: 0 , time:  2  sec \n",
            "Epoch:  17 , Train loss: 2.440976886188283 , Train accuracy: 0.8946391611920478 , argmax_recall_score: 0.8055569 , teacher_prob: 0 , time:  3  sec \n",
            "Epoch:  18 , Train loss: 2.436467128641465 , Train accuracy: 0.8941941885404591 , argmax_recall_score: 0.8044708 , teacher_prob: 0 , time:  2  sec \n",
            "Epoch:  19 , Train loss: 2.441927769604851 , Train accuracy: 0.8942054592656793 , argmax_recall_score: 0.80456024 , teacher_prob: 0 , time:  2  sec \n",
            "Epoch:  20 , Train loss: 2.4229205636417164 , Train accuracy: 0.8947938574205614 , argmax_recall_score: 0.80505294 , teacher_prob: 0 , time:  3  sec \n",
            "Epoch:  21 , Train loss: 2.422266216839061 , Train accuracy: 0.8946844650875411 , argmax_recall_score: 0.80496836 , teacher_prob: 0 , time:  2  sec \n",
            "Epoch:  22 , Train loss: 2.437630428987391 , Train accuracy: 0.8941790504095259 , argmax_recall_score: 0.80485886 , teacher_prob: 0 , time:  2  sec \n",
            "Epoch:  23 , Train loss: 2.4243267283720127 , Train accuracy: 0.8949296586097351 , argmax_recall_score: 0.8055569 , teacher_prob: 0 , time:  2  sec \n",
            "Epoch:  24 , Train loss: 2.4203805642969467 , Train accuracy: 0.8950842443409426 , argmax_recall_score: 0.8052056 , teacher_prob: 0 , time:  2  sec \n",
            "Epoch:  25 , Train loss: 2.425507629618925 , Train accuracy: 0.8946844650875411 , argmax_recall_score: 0.80493224 , teacher_prob: 0 , time:  2  sec \n",
            "Epoch:  26 , Train loss: 2.4128938422483555 , Train accuracy: 0.8952955151901697 , argmax_recall_score: 0.8064635 , teacher_prob: 0 , time:  2  sec \n",
            "Epoch:  27 , Train loss: 2.417136080124799 , Train accuracy: 0.8952275593469298 , argmax_recall_score: 0.80542415 , teacher_prob: 0 , time:  2  sec \n",
            "Epoch:  28 , Train loss: 2.4266039062948788 , Train accuracy: 0.8946957358127613 , argmax_recall_score: 0.80507976 , teacher_prob: 0 , time:  2  sec \n",
            "Epoch:  29 , Train loss: 2.416559093138751 , Train accuracy: 0.8951861228571494 , argmax_recall_score: 0.805789 , teacher_prob: 0 , time:  2  sec \n",
            "Epoch:  30 , Train loss: 2.4146124475142536 , Train accuracy: 0.8950880012493493 , argmax_recall_score: 0.8056773 , teacher_prob: 0 , time:  3  sec \n",
            "Epoch:  31 , Train loss: 2.41915103968452 , Train accuracy: 0.8952878908760501 , argmax_recall_score: 0.805607 , teacher_prob: 0 , time:  2  sec \n",
            "Epoch:  32 , Train loss: 2.4203412112067726 , Train accuracy: 0.8948994928451749 , argmax_recall_score: 0.8059169 , teacher_prob: 0 , time:  2  sec \n",
            "Epoch:  33 , Train loss: 2.4155121270348046 , Train accuracy: 0.8949937470472621 , argmax_recall_score: 0.80515987 , teacher_prob: 0 , time:  3  sec \n",
            "Epoch:  34 , Train loss: 2.4101539920358097 , Train accuracy: 0.895174741634623 , argmax_recall_score: 0.8055772 , teacher_prob: 0 , time:  2  sec \n",
            "Epoch:  35 , Train loss: 2.41395463662989 , Train accuracy: 0.8951936366739629 , argmax_recall_score: 0.806077 , teacher_prob: 0 , time:  2  sec \n",
            "Epoch:  36 , Train loss: 2.4169240839341106 , Train accuracy: 0.8949446862433621 , argmax_recall_score: 0.8054495 , teacher_prob: 0 , time:  3  sec \n",
            "Epoch:  37 , Train loss: 2.411297363393447 , Train accuracy: 0.8955066755420907 , argmax_recall_score: 0.8056067 , teacher_prob: 0 , time:  2  sec \n",
            "Epoch:  38 , Train loss: 2.4143459656659294 , Train accuracy: 0.8950955150661628 , argmax_recall_score: 0.80575716 , teacher_prob: 0 , time:  2  sec \n",
            "Epoch:  39 , Train loss: 1.2350836326094234 , Train accuracy: 0 , teacher_prob: 1 , time:  23  sec \n",
            "Epoch:  40 , Train loss: 0.6690268516540527 , Train accuracy: 0 , teacher_prob: 1 , time:  2  sec \n",
            "Epoch:  41 , Train loss: 0.5779505827847649 , Train accuracy: 0 , teacher_prob: 1 , time:  2  sec \n",
            "Epoch:  42 , Train loss: 0.5565378560739405 , Train accuracy: 0 , teacher_prob: 1 , time:  2  sec \n",
            "Epoch:  43 , Train loss: 0.5475257635116577 , Train accuracy: 0 , teacher_prob: 1 , time:  2  sec \n",
            "Epoch:  44 , Train loss: 0.5449273796642528 , Train accuracy: 0 , teacher_prob: 1 , time:  2  sec \n",
            "Epoch:  45 , Train loss: 0.5400199223967159 , Train accuracy: 0 , teacher_prob: 1 , time:  2  sec \n",
            "Epoch:  46 , Train loss: 0.537040486055262 , Train accuracy: 0 , teacher_prob: 1 , time:  2  sec \n",
            "Epoch:  47 , Train loss: 0.5343402694253361 , Train accuracy: 0 , teacher_prob: 1 , time:  2  sec \n",
            "Epoch:  48 , Train loss: 0.5344734893125647 , Train accuracy: 0 , teacher_prob: 1 , time:  2  sec \n",
            "Epoch:  49 , Train loss: 0.5324600058443406 , Train accuracy: 0 , teacher_prob: 1 , time:  2  sec \n",
            "Epoch:  50 , Train loss: 0.5298215992310468 , Train accuracy: 0 , teacher_prob: 1 , time:  2  sec \n",
            "Epoch:  51 , Train loss: 0.5313674842610079 , Train accuracy: 0 , teacher_prob: 1 , time:  2  sec \n",
            "Epoch:  52 , Train loss: 0.5307899783639347 , Train accuracy: 0 , teacher_prob: 1 , time:  2  sec \n",
            "Epoch:  53 , Train loss: 0.5294689308194553 , Train accuracy: 0 , teacher_prob: 1 , time:  2  sec \n",
            "Epoch:  54 , Train loss: 0.5285747927777907 , Train accuracy: 0 , teacher_prob: 1 , time:  3  sec \n",
            "Epoch:  55 , Train loss: 0.5270841717720032 , Train accuracy: 0 , teacher_prob: 1 , time:  2  sec \n",
            "Epoch:  56 , Train loss: 0.5261983170228846 , Train accuracy: 0 , teacher_prob: 1 , time:  2  sec \n",
            "Epoch:  57 , Train loss: 0.526694646653007 , Train accuracy: 0 , teacher_prob: 1 , time:  2  sec \n",
            "Epoch:  58 , Train loss: 0.5249559002764085 , Train accuracy: 0 , teacher_prob: 1 , time:  2  sec \n",
            "Epoch:  59 , Train loss: 0.5254419095375958 , Train accuracy: 0 , teacher_prob: 1 , time:  2  sec \n",
            "Epoch:  60 , Train loss: 0.5282651992405162 , Train accuracy: 0 , teacher_prob: 1 , time:  2  sec \n",
            "Epoch:  61 , Train loss: 0.5259057037970599 , Train accuracy: 0 , teacher_prob: 1 , time:  2  sec \n",
            "Epoch:  62 , Train loss: 0.5220167777117561 , Train accuracy: 0 , teacher_prob: 1 , time:  2  sec \n",
            "Epoch:  63 , Train loss: 0.5218333356520709 , Train accuracy: 0 , teacher_prob: 1 , time:  2  sec \n",
            "Epoch:  64 , Train loss: 0.5203275259803323 , Train accuracy: 0 , teacher_prob: 1 , time:  2  sec \n",
            "Epoch:  65 , Train loss: 0.519121478585636 , Train accuracy: 0 , teacher_prob: 1 , time:  2  sec \n",
            "Epoch:  66 , Train loss: 0.5204509198665619 , Train accuracy: 0 , teacher_prob: 1 , time:  2  sec \n",
            "Epoch:  67 , Train loss: 0.5203255660393659 , Train accuracy: 0 , teacher_prob: 1 , time:  2  sec \n",
            "Epoch:  68 , Train loss: 0.5206789339289946 , Train accuracy: 0 , teacher_prob: 1 , time:  2  sec \n",
            "Epoch:  69 , Train loss: 0.5183300270753748 , Train accuracy: 0 , teacher_prob: 1 , time:  2  sec \n",
            "Epoch:  70 , Train loss: 0.5185334805180045 , Train accuracy: 0 , teacher_prob: 1 , time:  2  sec \n",
            "Epoch:  71 , Train loss: 0.5189033922027139 , Train accuracy: 0 , teacher_prob: 1 , time:  2  sec \n",
            "Epoch:  72 , Train loss: 0.518747462945826 , Train accuracy: 0 , teacher_prob: 1 , time:  2  sec \n",
            "Epoch:  73 , Train loss: 0.5190430651692783 , Train accuracy: 0 , teacher_prob: 1 , time:  2  sec \n",
            "Epoch:  74 , Train loss: 0.5186791069367352 , Train accuracy: 0 , teacher_prob: 1 , time:  2  sec \n",
            "Epoch:  75 , Train loss: 0.5180589030770695 , Train accuracy: 0 , teacher_prob: 1 , time:  2  sec \n",
            "Epoch:  76 , Train loss: 0.5160929806092206 , Train accuracy: 0 , teacher_prob: 1 , time:  2  sec \n",
            "Epoch:  77 , Train loss: 0.5155684947967529 , Train accuracy: 0 , teacher_prob: 1 , time:  2  sec \n",
            "Epoch:  78 , Train loss: 0.5185980270890629 , Train accuracy: 0 , teacher_prob: 1 , time:  2  sec \n"
          ],
          "name": "stdout"
        }
      ]
    },
    {
      "cell_type": "markdown",
      "metadata": {
        "id": "vueXnphmBoiu",
        "colab_type": "text"
      },
      "source": [
        "Above is the main training circle of seq2seq chatbot model"
      ]
    },
    {
      "cell_type": "code",
      "metadata": {
        "id": "X9-VAQj_etWa",
        "colab_type": "code",
        "outputId": "1a3bee7f-a521-4700-da42-e797b831941e",
        "colab": {
          "base_uri": "https://localhost:8080/",
          "height": 1000
        }
      },
      "source": [
        "\n",
        "\n",
        "print(\"seq2seq is trained\")\n",
        "\n",
        "print(\"training loss: \")\n",
        "plt.plot(train_losses)\n",
        "plt.show()\n",
        "plt.close()\n",
        "print(\"training accuracy: \")\n",
        "plt.plot(train_accuracies)\n",
        "plt.show()\n",
        "plt.close()\n",
        "print(\"argmax recall: \")\n",
        "plt.plot(correction_argmax_recall)\n",
        "plt.show()\n",
        "plt.close()\n",
        "print(\"sample recall: \")\n",
        "plt.plot(correction_sample_recall)\n",
        "plt.show()\n",
        "plt.close()\n",
        "\n",
        "\n",
        "romance_questions = [\"hello , nice to meet you !\",\n",
        "                     \"hi , how are you ?\",\n",
        "                     \"hi pretty one !\",\n",
        "                     \"what is on your mind right now ?\",\n",
        "                     \"what do you want from me ?\",\n",
        "                     \"do you want something from me ?\",\n",
        "                     \"what is your name swettie ?\",\n",
        "                     \"do you like to play ?\",\n",
        "                     \"would you play with me ?\",\n",
        "                     \"am i handsome ?\",\n",
        "                     \"what is on your mind ?\"]\n",
        "\n",
        "\n",
        "\n",
        "def talk_to_me(test_phrases, sampling = False):\n",
        "    converted_test_phrases = []\n",
        "    converted_test_answers = []\n",
        "    test_answers = []\n",
        "\n",
        "    with tf.device(\"cpu:0\"):\n",
        "\n",
        "        for phrase in test_phrases:\n",
        "            phrase = phrase.strip(\" \")\n",
        "            phrase_words = phrase.split(\" \")\n",
        "            skip = False\n",
        "            phrase_words = [\"BEGIN\"] + phrase_words + [\"END\"]\n",
        "            if not skip:\n",
        "                predicted = seq2seq.predict(phrase_words, sampling = sampling)\n",
        "                test_answers.append(predicted)\n",
        "\n",
        "    for i in range(len(test_phrases)):\n",
        "        phrase = test_phrases[i].strip(\" \").split(\" \")\n",
        "\n",
        "        answer = test_answers[i]\n",
        "        converted_answer = \"\"\n",
        "        for word in answer:\n",
        "            converted_answer += word\n",
        "            converted_answer += \" \"\n",
        "\n",
        "        converted_test_answers.append(converted_answer)  \n",
        "\n",
        "    for i in range(len(test_phrases)):\n",
        "        print(test_phrases[i])\n",
        "        print(converted_test_answers[i])\n",
        "        print(\"\\n\")  \n",
        "\n",
        "\n",
        "\n"
      ],
      "execution_count": 0,
      "outputs": [
        {
          "output_type": "stream",
          "text": [
            "seq2seq is trained\n",
            "training loss: \n"
          ],
          "name": "stdout"
        },
        {
          "output_type": "display_data",
          "data": {
            "image/png": "[encoded data removed]",
            "text/plain": [
              "<Figure size 432x288 with 1 Axes>"
            ]
          },
          "metadata": {
            "tags": []
          }
        },
        {
          "output_type": "stream",
          "text": [
            "training accuracy: \n"
          ],
          "name": "stdout"
        },
        {
          "output_type": "display_data",
          "data": {
            "image/png": "[encoded data removed]",
            "text/plain": [
              "<Figure size 432x288 with 1 Axes>"
            ]
          },
          "metadata": {
            "tags": []
          }
        },
        {
          "output_type": "stream",
          "text": [
            "argmax recall: \n"
          ],
          "name": "stdout"
        },
        {
          "output_type": "display_data",
          "data": {
            "image/png": "[encoded data removed]",
            "text/plain": [
              "<Figure size 432x288 with 1 Axes>"
            ]
          },
          "metadata": {
            "tags": []
          }
        },
        {
          "output_type": "stream",
          "text": [
            "sample recall: \n"
          ],
          "name": "stdout"
        },
        {
          "output_type": "display_data",
          "data": {
            "image/png": "[encoded data removed]",
            "text/plain": [
              "<Figure size 432x288 with 1 Axes>"
            ]
          },
          "metadata": {
            "tags": []
          }
        }
      ]
    },
    {
      "cell_type": "code",
      "metadata": {
        "id": "XMDDmhtZex5R",
        "colab_type": "code",
        "outputId": "3df011e0-3c15-4afb-91c0-529cbc27574e",
        "colab": {
          "base_uri": "https://localhost:8080/",
          "height": 798
        }
      },
      "source": [
        "\n",
        "talk_to_me(romance_questions, sampling = True) #old"
      ],
      "execution_count": 0,
      "outputs": [
        {
          "output_type": "stream",
          "text": [
            "hello , nice to meet you !\n",
            "hi , happy to meet you too ! \n",
            "\n",
            "\n",
            "hi , how are you ?\n",
            "i am fine , thank you ! \n",
            "\n",
            "\n",
            "hi pretty one !\n",
            "hey . \n",
            "\n",
            "\n",
            "what is on your mind right now ?\n",
            "i do not know , dignan . \n",
            "\n",
            "\n",
            "what do you want from me ?\n",
            "your love . \n",
            "\n",
            "\n",
            "do you want something from me ?\n",
            "sure . \n",
            "\n",
            "\n",
            "what is your name swettie ?\n",
            "do not give her your name . \n",
            "\n",
            "\n",
            "do you like to play ?\n",
            "i do not know . \n",
            "\n",
            "\n",
            "would you play with me ?\n",
            "sure . \n",
            "\n",
            "\n",
            "am i handsome ?\n",
            "you can not be out . \n",
            "\n",
            "\n",
            "what is on your mind ?\n",
            "i do not know ... this dna . \n",
            "\n",
            "\n"
          ],
          "name": "stdout"
        }
      ]
    },
    {
      "cell_type": "code",
      "metadata": {
        "id": "9wQNI__MLzWT",
        "colab_type": "code",
        "outputId": "20970262-479d-4ebb-a640-7e6875b71286",
        "colab": {
          "base_uri": "https://localhost:8080/",
          "height": 87
        }
      },
      "source": [
        "talk_to_me([\"how do you know this ?\"], sampling = False)"
      ],
      "execution_count": 0,
      "outputs": [
        {
          "output_type": "stream",
          "text": [
            "how do you know this ?\n",
            "i know . \n",
            "\n",
            "\n"
          ],
          "name": "stdout"
        }
      ]
    },
    {
      "cell_type": "code",
      "metadata": {
        "id": "xhnBSIEjAHUZ",
        "colab_type": "code",
        "colab": {}
      },
      "source": [
        "from google.colab import files\n",
        "import h5py\n",
        "import pickle\n",
        "\n",
        "def download_weights(weights):\n",
        "\n",
        "    weight_file_name = \"weights2_final_v3.\" + \\\n",
        "                        str(MIN_TOKEN_FREQ) + \".\" + \\\n",
        "                         str(MAX_TOKENS_X) + \".\" + \\\n",
        "                         str(MAX_TOKENS_Y) + \".\" + \\\n",
        "                         \"all_except.\" * int(WITH_EXCEPTION) + \\\n",
        "                         GENRES + \".h5\"\n",
        "\n",
        "    with h5py.File(weight_file_name, \"w\") as h5f:\n",
        "        i = 0\n",
        "        for weight in weights:\n",
        "            group = h5f.create_group(str(i))\n",
        "            i += 1\n",
        "            j = 0\n",
        "            for kernel in weight:\n",
        "                group.create_dataset(str(j), data=kernel)\n",
        "                j += 1\n",
        "    h5f.close()\n",
        "    files.download(weight_file_name)\n",
        "\n",
        "with tf.device(\"cpu:0\"):\n",
        "    weights = seq2seq.save()\n",
        "\n",
        "\n",
        "words_file_name = \"words2_final_v3\" + \".\" + str(MIN_TOKEN_FREQ) + \\\n",
        "                     \".\" + str(MAX_TOKENS_X) + \".\" + str(MAX_TOKENS_Y) + \\\n",
        "                      \".\" + \"all_except.\" * int(WITH_EXCEPTION) + \\\n",
        "                      GENRES + \".dict\"\n",
        "\n",
        "with open(words_file_name, \"wb\") as dict_file:\n",
        "    pickle.dump(word_dict, dict_file)\n",
        "\n",
        "download_weights(weights)\n",
        "files.download(words_file_name)"
      ],
      "execution_count": 0,
      "outputs": []
    },
    {
      "cell_type": "markdown",
      "metadata": {
        "id": "lM9YYYtCB8VX",
        "colab_type": "text"
      },
      "source": [
        "And last step is saving weights and words dictionary tokens of trained seq2seq model, code above saves weights in fucntion and two arrays of word indices:\n",
        "first array is array of indices of words that saved seq2seq model is trained on in twitter 50-d embeddings array with 3 adititional words (\"EMPTY\" with index 0, \"START\" with index 1 and \"END\" with index 2), all 3 words are added at the begining of embeddings array.\n",
        "second array is array of word tokens in seq2seq2 model dictionary with which seq2seq model operates, every token at index i in this array corresponds to word index at the same index in first array, so recreated dictionary of saved model will have as keys words from embeddings file with 3 additional words at the begining at indices from first array and as values will have tokens from second array."
      ]
    }
  ]
}